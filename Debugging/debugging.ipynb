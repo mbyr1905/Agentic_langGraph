{
 "cells": [
  {
   "cell_type": "code",
   "execution_count": 1,
   "id": "c10ad6f8",
   "metadata": {},
   "outputs": [
    {
     "data": {
      "text/plain": [
       "True"
      ]
     },
     "execution_count": 1,
     "metadata": {},
     "output_type": "execute_result"
    }
   ],
   "source": [
    "from typing import Annotated\n",
    "from typing_extensions import TypedDict\n",
    "\n",
    "from langgraph.graph import START, END\n",
    "from langgraph.graph.state import StateGraph\n",
    "from langgraph.graph.message import add_messages\n",
    "from langgraph.prebuilt import ToolNode, tools_condition\n",
    "from langchain_core.tools import tool\n",
    "from langchain_core.messages import BaseMessage\n",
    "\n",
    "import os\n",
    "from dotenv import load_dotenv\n",
    "load_dotenv()\n"
   ]
  },
  {
   "cell_type": "code",
   "execution_count": 2,
   "id": "48b5bfee",
   "metadata": {},
   "outputs": [],
   "source": [
    "os.environ['GROQ_API_KEY']=os.getenv('GROQ_API_KEY')\n",
    "os.environ['LANGCHAIN_API_KEY']=os.getenv('LANGCHAIN_API_KEY')\n",
    "os.environ['LANGSMITH_TRACING']='true'\n",
    "os.environ['LANGSMITH_PROJECT']='TestProject'"
   ]
  },
  {
   "cell_type": "code",
   "execution_count": 3,
   "id": "8a1a7e25",
   "metadata": {},
   "outputs": [],
   "source": [
    "@tool\n",
    "def add(a:int, b:int)->int:\n",
    "    \"\"\"\n",
    "    Add two numbers a, b\n",
    "    \"\"\"\n",
    "    return a+b\n",
    "tools=[add]\n",
    "tool_node = ToolNode([add])"
   ]
  },
  {
   "cell_type": "code",
   "execution_count": 4,
   "id": "841bea83",
   "metadata": {},
   "outputs": [],
   "source": [
    "from langchain_groq import ChatGroq\n",
    "from langchain.chat_models import init_chat_model\n",
    "\n",
    "llm = ChatGroq(model='llama-3.3-70b-versatile')"
   ]
  },
  {
   "cell_type": "code",
   "execution_count": 5,
   "id": "afa75454",
   "metadata": {},
   "outputs": [
    {
     "name": "stderr",
     "output_type": "stream",
     "text": [
      "C:\\Users\\Bhanu2003\\AppData\\Local\\Temp\\ipykernel_3180\\336509976.py:1: LangChainDeprecationWarning: The method `ChatGroq.bind_functions` was deprecated in langchain-groq 0.2.1 and will be removed in 1.0.0. Use :meth:`~langchain_groq.chat_models.ChatGroq.bind_tools` instead.\n",
      "  llm_with_tools = llm.bind_functions([add])\n"
     ]
    }
   ],
   "source": [
    "llm_with_tools = llm.bind_functions([add])"
   ]
  },
  {
   "cell_type": "code",
   "execution_count": 6,
   "id": "ec603018",
   "metadata": {},
   "outputs": [],
   "source": [
    "class State(TypedDict):\n",
    "    messages:Annotated[list[BaseMessage],add_messages]"
   ]
  },
  {
   "cell_type": "code",
   "execution_count": 7,
   "id": "79557a06",
   "metadata": {},
   "outputs": [],
   "source": [
    "def call_llm_model(state:State):\n",
    "    return {\"messages\":[llm_with_tools.invoke(state['messages'])]}"
   ]
  },
  {
   "cell_type": "code",
   "execution_count": 8,
   "id": "9d70e081",
   "metadata": {},
   "outputs": [
    {
     "data": {
      "image/png": "[encoded data removed]",
      "text/plain": [
       "<langgraph.graph.state.CompiledStateGraph object at 0x000002328F222D80>"
      ]
     },
     "execution_count": 8,
     "metadata": {},
     "output_type": "execute_result"
    }
   ],
   "source": [
    "graph = StateGraph(State)\n",
    "\n",
    "graph.add_node(\"tool_calling_llm\", call_llm_model)\n",
    "graph.add_node(\"tools\", ToolNode(tools))\n",
    "\n",
    "graph.add_edge(START, \"tool_calling_llm\")\n",
    "graph.add_conditional_edges(\"tool_calling_llm\",tools_condition)\n",
    "graph.add_edge(\"tools\", \"tool_calling_llm\")\n",
    "graph.compile()"
   ]
  },
  {
   "cell_type": "code",
   "execution_count": 9,
   "id": "4b87a491",
   "metadata": {},
   "outputs": [],
   "source": [
    "graph=graph.compile()"
   ]
  },
  {
   "cell_type": "code",
   "execution_count": 10,
   "id": "40474b57",
   "metadata": {},
   "outputs": [
    {
     "name": "stdout",
     "output_type": "stream",
     "text": [
      "I'm not able to provide real-time information, but I can suggest checking the latest news and updates on Large Language Models (LLMs) through reputable sources such as tech news websites, academic journals, or official announcements from organizations developing LLMs.\n"
     ]
    }
   ],
   "source": [
    "res=graph.invoke({\"messages\":[\"Whaat is latest news on llms\"]})\n",
    "\n",
    "print(res['messages'][-1].content)"
   ]
  },
  {
   "cell_type": "code",
   "execution_count": 11,
   "id": "f53c0144",
   "metadata": {},
   "outputs": [
    {
     "name": "stdout",
     "output_type": "stream",
     "text": [
      "Machine learning is a subset of artificial intelligence (AI) that involves the use of algorithms and statistical models to enable machines to learn from data, make decisions, and improve their performance over time. It allows computers to automatically learn and improve from experience without being explicitly programmed.\n",
      "\n",
      "In traditional programming, a computer is given a set of rules and instructions to follow. In contrast, machine learning involves training a computer on a dataset, so it can learn to make predictions, classify objects, or make decisions based on that data.\n",
      "\n",
      "Machine learning has many applications, including:\n",
      "\n",
      "1. Image and speech recognition\n",
      "2. Natural language processing\n",
      "3. Predictive analytics\n",
      "4. Recommendation systems\n",
      "5. Autonomous vehicles\n",
      "6. Medical diagnosis\n",
      "7. Fraud detection\n",
      "8. Customer service chatbots\n",
      "\n",
      "Machine learning involves several key steps:\n",
      "\n",
      "1. Data collection: Gathering data relevant to the problem you want to solve.\n",
      "2. Data preprocessing: Cleaning, transforming, and preparing the data for training.\n",
      "3. Model selection: Choosing a suitable machine learning algorithm and configuring it.\n",
      "4. Training: Training the model on the prepared data.\n",
      "5. Evaluation: Testing the trained model on a separate dataset to evaluate its performance.\n",
      "6. Deployment: Deploying the trained model in a production environment.\n",
      "\n",
      "There are several types of machine learning, including:\n",
      "\n",
      "1. Supervised learning: The computer is trained on labeled data to learn the relationship between input and output.\n",
      "2. Unsupervised learning: The computer is trained on unlabeled data to discover patterns and relationships.\n",
      "3. Reinforcement learning: The computer learns through trial and error by interacting with an environment and receiving feedback in the form of rewards or penalties.\n",
      "\n",
      "Machine learning has many benefits, including:\n",
      "\n",
      "1. Improved accuracy: Machine learning models can learn from large datasets and improve their performance over time.\n",
      "2. Increased efficiency: Machine learning can automate many tasks, freeing up human time and resources.\n",
      "3. Enhanced decision-making: Machine learning can provide insights and predictions that can inform business decisions.\n",
      "4. Personalization: Machine learning can be used to personalize recommendations, advertising, and customer experiences.\n",
      "\n",
      "However, machine learning also has some challenges and limitations, including:\n",
      "\n",
      "1. Data quality: Machine learning requires high-quality data to produce accurate results.\n",
      "2. Bias: Machine learning models can perpetuate existing biases and prejudices if the training data is biased.\n",
      "3. Interpretability: Machine learning models can be complex and difficult to interpret, making it challenging to understand their decisions.\n",
      "4. Security: Machine learning models can be vulnerable to cyber attacks and data breaches.\n",
      "\n",
      "Overall, machine learning is a powerful technology that has the potential to transform many industries and aspects of our lives. However, it requires careful consideration of its limitations and challenges to ensure that it is used responsibly and effectively.\n"
     ]
    }
   ],
   "source": [
    "res=graph.invoke({\"messages\":[\"Whaat is machine learning\"]})\n",
    "\n",
    "print(res['messages'][-1].content)"
   ]
  },
  {
   "cell_type": "code",
   "execution_count": 12,
   "id": "44184420",
   "metadata": {},
   "outputs": [
    {
     "name": "stdout",
     "output_type": "stream",
     "text": [
      "The answer to 2+4 is 6 and the answer to 4+8 is 12.\n"
     ]
    }
   ],
   "source": [
    "res = graph.invoke({\"messages\":[\"whats is 2+4?\", \"what is 4+8?\"]})\n",
    "print(res['messages'][-1].content)"
   ]
  }
 ],
 "metadata": {
  "kernelspec": {
   "display_name": "myvenv",
   "language": "python",
   "name": "python3"
  },
  "language_info": {
   "codemirror_mode": {
    "name": "ipython",
    "version": 3
   },
   "file_extension": ".py",
   "mimetype": "text/x-python",
   "name": "python",
   "nbconvert_exporter": "python",
   "pygments_lexer": "ipython3",
   "version": "3.12.4"
  }
 },
 "nbformat": 4,
 "nbformat_minor": 5
}
