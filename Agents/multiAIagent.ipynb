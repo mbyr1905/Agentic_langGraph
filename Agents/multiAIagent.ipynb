{
 "cells": [
  {
   "cell_type": "code",
   "execution_count": 5,
   "id": "4640dab7",
   "metadata": {},
   "outputs": [],
   "source": [
    "from typing import TypedDict, Annotated, List, Literal\n",
    "import os\n",
    "from langchain_core.messages import BaseMessage, HumanMessage, AIMessage, SystemMessage\n",
    "from langchain_groq import ChatGroq\n",
    "from langchain_core.tools import tool\n",
    "from langchain_community.tools.tavily_search import TavilySearchResults\n",
    "from langgraph.graph import START, END, StateGraph, MessagesState\n",
    "from langgraph.prebuilt import create_react_agent, ToolNode\n",
    "from langgraph.checkpoint.memory import MemorySaver"
   ]
  },
  {
   "cell_type": "code",
   "execution_count": 6,
   "id": "e7bd9ab0",
   "metadata": {},
   "outputs": [],
   "source": [
    "from dotenv import load_dotenv\n",
    "load_dotenv()\n",
    "\n",
    "os.environ['GROQ_API_KEY']=os.getenv('GROQ_API_KEY')\n",
    "os.environ['LANGCHAIN_API_KEY']=os.getenv('LANGCHAIN_API_KEY')\n",
    "os.environ['LANGSMITH_TRACING']='true'\n",
    "os.environ['LANGSMITH_PROJECT']='TestProject'\n",
    "os.environ['TAVILY_API_KEY']=os.getenv('TAVILY_API_KEY')"
   ]
  },
  {
   "cell_type": "code",
   "execution_count": 7,
   "id": "74144bc1",
   "metadata": {},
   "outputs": [],
   "source": [
    "class AgentState(MessagesState):\n",
    "    next_agent:str"
   ]
  },
  {
   "cell_type": "code",
   "execution_count": 12,
   "id": "057f66ab",
   "metadata": {},
   "outputs": [],
   "source": [
    "@tool\n",
    "def search_web(query:str)->str:\n",
    "    \"\"\"Search for web for inofrmation\"\"\"\n",
    "    search = TavilySearchResults(max_results=5)\n",
    "    res = search.invoke(query)\n",
    "    return str(res)\n",
    "    \n",
    "@tool\n",
    "def write_summary(summary:str)->str:\n",
    "    \"\"\"Write summary of the provided text\"\"\"\n",
    "    \n",
    "    res = f\"Summary of findings:\\n\\n{summary[:500]}\"\n",
    "    return res"
   ]
  },
  {
   "cell_type": "code",
   "execution_count": 13,
   "id": "7023a529",
   "metadata": {},
   "outputs": [],
   "source": [
    "from langchain_groq import ChatGroq\n",
    "from langchain.chat_models import init_chat_model\n",
    "\n",
    "llm = ChatGroq(model='llama-3.3-70b-versatile')"
   ]
  },
  {
   "cell_type": "code",
   "execution_count": 11,
   "id": "909006b3",
   "metadata": {},
   "outputs": [],
   "source": [
    "def research_agent(state:AgentState):\n",
    "    \"\"\"Researcher agent researched for the information using taily search\"\"\"\n",
    "    messages=state['messages']\n",
    "    system_msg = SystemMessage(content=\"You are are search assistant, use search_web tool to fnd the results\")\n",
    "    \n",
    "    llm_with_reseach_tool = llm.bind_tools([search_web])\n",
    "    res = llm_with_reseach_tool.invoke([system_msg]+messages)\n",
    "    \n",
    "    return {\n",
    "        \"messages\":[res],\n",
    "        \"next_agent\":\"writer\"\n",
    "    }"
   ]
  },
  {
   "cell_type": "code",
   "execution_count": 14,
   "id": "751b3d4f",
   "metadata": {},
   "outputs": [],
   "source": [
    "def write_agent(state:AgentState):\n",
    "    \"\"\"This agent creates the summay\"\"\"\n",
    "    messages = state['messages']\n",
    "    \n",
    "    system_msg = SystemMessage(content='You are a techinal writer, Review the conversation and create the summary')\n",
    "    \n",
    "    res = llm.invoke([system_msg]+messages)\n",
    "    \n",
    "    return {\n",
    "        \"messages\":[res],\n",
    "        \"next_agent\":\"end\"            \n",
    "    }"
   ]
  },
  {
   "cell_type": "code",
   "execution_count": 15,
   "id": "51a59159",
   "metadata": {},
   "outputs": [],
   "source": [
    "def execute_tools(state:AgentState):\n",
    "    \"\"\"Execute any pending tool calls\"\"\"\n",
    "    messages = state['messages']\n",
    "    last_msg = messages[-1]\n",
    "    if hasattr(last_msg, \"tool_calls\") and last_msg.tool_calls:\n",
    "        tool_node = ToolNode([search_web, write_summary])\n",
    "        res = tool_node.invoke(state)\n",
    "        return res\n",
    "\n",
    "    return state"
   ]
  },
  {
   "cell_type": "code",
   "execution_count": 18,
   "id": "b467f7d1",
   "metadata": {},
   "outputs": [
    {
     "data": {
      "image/png": "[encoded data removed]",
      "text/plain": [
       "<langgraph.graph.state.CompiledStateGraph object at 0x0000028AA8C839E0>"
      ]
     },
     "execution_count": 18,
     "metadata": {},
     "output_type": "execute_result"
    }
   ],
   "source": [
    "graph = StateGraph(MessagesState)\n",
    "graph.add_node(\"researcher\",research_agent)\n",
    "graph.add_node(\"writer\", write_agent)\n",
    "\n",
    "graph.set_entry_point(\"researcher\")\n",
    "graph.add_edge(\"researcher\", \"writer\")\n",
    "graph.add_edge(\"writer\",END)\n",
    "graph.compile()"
   ]
  },
  {
   "cell_type": "code",
   "execution_count": 19,
   "id": "eb450bb9",
   "metadata": {},
   "outputs": [],
   "source": [
    "graph=graph.compile()"
   ]
  },
  {
   "cell_type": "code",
   "execution_count": 21,
   "id": "339d977f",
   "metadata": {},
   "outputs": [
    {
     "data": {
      "text/plain": [
       "\" \\n\\nHere's a summary of the latest research on AI and ML:\\n\\n**Recent Advances:**\\n\\n1. **Explainable AI (XAI)**: Researchers are working on developing techniques to make AI decision-making processes more transparent and interpretable.\\n2. **Transfer Learning**: Studies have shown that transfer learning can significantly improve the performance of ML models on new, unseen tasks.\\n3. **Adversarial Attacks**: Researchers are exploring ways to defend against adversarial attacks, which can compromise the security of AI systems.\\n4. **Reinforcement Learning**: Recent advancements in reinforcement learning have led to breakthroughs in areas like robotics and game playing.\\n\\n**Emerging Trends:**\\n\\n1. **Edge AI**: With the increasing use of IoT devices, researchers are focusing on developing AI models that can run efficiently on edge devices.\\n2. **Quantum Machine Learning**: The intersection of quantum computing and ML is an exciting area of research, with potential applications in fields like chemistry and materials science.\\n3. **Ethics in AI**: As AI becomes more pervasive, researchers are emphasizing the need for ethical considerations in AI development, including fairness, accountability, and transparency.\\n\\n**Applications:**\\n\\n1. **Healthcare**: AI and ML are being applied to medical imaging, disease diagnosis, and personalized medicine.\\n2. **Natural Language Processing (NLP)**: Researchers are working on improving NLP models for tasks like language translation, sentiment analysis, and text summarization.\\n3. **Autonomous Systems**: AI and ML are being used to develop autonomous vehicles, drones, and robots.\\n\\nThese are just a few examples of the many exciting developments in AI and ML research. The field is rapidly evolving, and we can expect to see even more innovative applications and breakthroughs in the future.\""
      ]
     },
     "execution_count": 21,
     "metadata": {},
     "output_type": "execute_result"
    }
   ],
   "source": [
    "graph.invoke({\"messages\":\"Reseach on AI, ML?\"})[\"messages\"][-1].content"
   ]
  }
 ],
 "metadata": {
  "kernelspec": {
   "display_name": "myvenv",
   "language": "python",
   "name": "python3"
  },
  "language_info": {
   "codemirror_mode": {
    "name": "ipython",
    "version": 3
   },
   "file_extension": ".py",
   "mimetype": "text/x-python",
   "name": "python",
   "nbconvert_exporter": "python",
   "pygments_lexer": "ipython3",
   "version": "3.12.4"
  }
 },
 "nbformat": 4,
 "nbformat_minor": 5
}
