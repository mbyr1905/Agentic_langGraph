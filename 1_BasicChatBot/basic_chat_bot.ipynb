{
 "cells": [
  {
   "cell_type": "code",
   "execution_count": 17,
   "id": "ede9befd",
   "metadata": {},
   "outputs": [],
   "source": [
    "from typing import Annotated\n",
    "\n",
    "from typing_extensions import TypedDict\n",
    "from langgraph.graph import START, END, StateGraph  \n",
    "from langgraph.graph.message import add_messages   #reducers"
   ]
  },
  {
   "cell_type": "code",
   "execution_count": 18,
   "id": "d75e7cd3",
   "metadata": {},
   "outputs": [],
   "source": [
    "class State(TypedDict):\n",
    "    messages:Annotated[list,add_messages] # updates the messhaes rather than overwriding them.\n",
    "    \n",
    "graph = StateGraph(State)"
   ]
  },
  {
   "cell_type": "code",
   "execution_count": 4,
   "id": "a9fe19bb",
   "metadata": {},
   "outputs": [
    {
     "data": {
      "text/plain": [
       "<langgraph.graph.state.StateGraph at 0x27bd0efb110>"
      ]
     },
     "execution_count": 4,
     "metadata": {},
     "output_type": "execute_result"
    }
   ],
   "source": [
    "graph"
   ]
  },
  {
   "cell_type": "code",
   "execution_count": 6,
   "id": "26a0ddde",
   "metadata": {},
   "outputs": [
    {
     "data": {
      "text/plain": [
       "True"
      ]
     },
     "execution_count": 6,
     "metadata": {},
     "output_type": "execute_result"
    }
   ],
   "source": [
    "import os\n",
    "from dotenv import load_dotenv\n",
    "load_dotenv()\n"
   ]
  },
  {
   "cell_type": "code",
   "execution_count": 18,
   "id": "b8977709",
   "metadata": {},
   "outputs": [],
   "source": [
    "from langchain_groq import ChatGroq\n",
    "from langchain.chat_models import init_chat_model\n",
    "\n",
    "llm = ChatGroq(model='llama-3.3-70b-versatile')"
   ]
  },
  {
   "cell_type": "code",
   "execution_count": 19,
   "id": "7944358d",
   "metadata": {},
   "outputs": [
    {
     "data": {
      "text/plain": [
       "ChatGroq(client=<groq.resources.chat.completions.Completions object at 0x0000027BD388BB30>, async_client=<groq.resources.chat.completions.AsyncCompletions object at 0x0000027BD3888F50>, model_name='llama-3.3-70b-versatile', model_kwargs={}, groq_api_key=SecretStr('**********'))"
      ]
     },
     "execution_count": 19,
     "metadata": {},
     "output_type": "execute_result"
    }
   ],
   "source": [
    "llm"
   ]
  },
  {
   "cell_type": "code",
   "execution_count": 9,
   "id": "89a54859",
   "metadata": {},
   "outputs": [],
   "source": [
    "def chatbot(state:State):\n",
    "    return {\"messages\":[llm.invoke(state[\"messages\"])]}"
   ]
  },
  {
   "cell_type": "code",
   "execution_count": 20,
   "id": "5fe8d847",
   "metadata": {},
   "outputs": [],
   "source": [
    "graph = StateGraph(State)\n",
    "\n",
    "graph.add_node(\"llmchatbot\", chatbot)\n",
    "graph.add_edge(START, \"llmchatbot\")\n",
    "graph.add_edge(\"llmchatbot\",END)\n",
    "\n",
    "graph=graph.compile()\n"
   ]
  },
  {
   "cell_type": "code",
   "execution_count": 22,
   "id": "ccae98bf",
   "metadata": {},
   "outputs": [
    {
     "data": {
      "text/plain": [
       "\"It's nice to meet you. Is there something I can help you with or would you like to chat?\""
      ]
     },
     "execution_count": 22,
     "metadata": {},
     "output_type": "execute_result"
    }
   ],
   "source": [
    "response=graph.invoke({\"messages\":[\"hi\"]})\n",
    "response['messages'][-1].content"
   ]
  },
  {
   "cell_type": "code",
   "execution_count": 24,
   "id": "26df9302",
   "metadata": {},
   "outputs": [
    {
     "name": "stdout",
     "output_type": "stream",
     "text": [
      "Hello. I'm just a language model, so I don't have feelings or emotions like humans do, but I'm functioning properly and ready to help with any questions or topics you'd like to discuss. How about you? How's your day going?\n"
     ]
    }
   ],
   "source": [
    "for event in graph.stream({\"messages\":\"Hi how are you\"}):\n",
    "    for value in event.values():\n",
    "        print(value[\"messages\"][-1].content)"
   ]
  },
  {
   "cell_type": "markdown",
   "id": "228d8ecd",
   "metadata": {},
   "source": [
    "LLM with tools"
   ]
  },
  {
   "cell_type": "code",
   "execution_count": 5,
   "id": "a5bbf7c0",
   "metadata": {},
   "outputs": [
    {
     "data": {
      "text/plain": [
       "True"
      ]
     },
     "execution_count": 5,
     "metadata": {},
     "output_type": "execute_result"
    }
   ],
   "source": [
    "import os\n",
    "from dotenv import load_dotenv\n",
    "\n",
    "load_dotenv()"
   ]
  },
  {
   "cell_type": "code",
   "execution_count": 6,
   "id": "28cc7e89",
   "metadata": {},
   "outputs": [],
   "source": [
    "from langchain_groq import ChatGroq\n",
    "from langchain.chat_models import init_chat_model\n",
    "\n",
    "llm = ChatGroq(model='llama-3.3-70b-versatile')"
   ]
  },
  {
   "cell_type": "code",
   "execution_count": 8,
   "id": "aefa0413",
   "metadata": {},
   "outputs": [],
   "source": [
    "from langchain_tavily import TavilySearch\n",
    "tavily_tool = TavilySearch(max_results=5) "
   ]
  },
  {
   "cell_type": "code",
   "execution_count": 9,
   "id": "daef49ea",
   "metadata": {},
   "outputs": [
    {
     "data": {
      "text/plain": [
       "{'query': 'recent news on ML',\n",
       " 'follow_up_questions': None,\n",
       " 'answer': None,\n",
       " 'images': [],\n",
       " 'results': [{'url': 'https://aibusiness.com/ml',\n",
       "   'title': 'ML recent news',\n",
       "   'content': 'Explore the latest news and expert commentary on ML, brought to you by the editors of AI Business.',\n",
       "   'score': 0.7570233,\n",
       "   'raw_content': None},\n",
       "  {'url': 'https://techxplore.com/machine-learning-ai-news/',\n",
       "   'title': 'News on Artificial Intelligence and Machine Learning',\n",
       "   'content': 'Machine learning & AI news· OpenAI and chipmaker AMD sign chip supply partnership for AI infrastructure · The reality of wholesale cheating with AI · Additive',\n",
       "   'score': 0.7092009,\n",
       "   'raw_content': None},\n",
       "  {'url': 'https://www.wired.com/tag/machine-learning/',\n",
       "   'title': 'Machine Learning | Latest News, Photos & Videos',\n",
       "   'content': 'Chatbots Play With Your Emotions to Avoid Saying Goodbye· Anthropic Will Use Claude Chats for Training Data. · Meta Poaches OpenAI Scientist to Help Lead AI Lab.',\n",
       "   'score': 0.5524679,\n",
       "   'raw_content': None},\n",
       "  {'url': 'https://groups.google.com/g/ml-news',\n",
       "   'title': 'Machine Learning News',\n",
       "   'content': 'This group serves as a forum for notices and announcements of interest to the machine learning community. This includes events, calls for papers,',\n",
       "   'score': 0.5367749,\n",
       "   'raw_content': None},\n",
       "  {'url': 'https://www.nature.com/subjects/machine-learning',\n",
       "   'title': 'Machine learning - Latest research and news',\n",
       "   'content': 'News and Comment.Will AI ever win its own Nobel? Some predict a prize-worthy science discovery soon. Other researchers question whether autonomous AI',\n",
       "   'score': 0.5354634,\n",
       "   'raw_content': None}],\n",
       " 'response_time': 1.61,\n",
       " 'request_id': 'b6428323-fb2e-49bc-9983-efd6cf03fcb0'}"
      ]
     },
     "execution_count": 9,
     "metadata": {},
     "output_type": "execute_result"
    }
   ],
   "source": [
    "tavily_tool.invoke(\"recent news on ML\")"
   ]
  },
  {
   "cell_type": "code",
   "execution_count": 10,
   "id": "7699cf6e",
   "metadata": {},
   "outputs": [],
   "source": [
    "def multiply(a:int,b:int)->int:\n",
    "    '''\n",
    "    Multiply a and b\n",
    "    Args: \n",
    "       a in integer is the first number,\n",
    "       b is the second number in integer.\n",
    "    Returns: \n",
    "        int: result of multiplication of a and b\n",
    "    '''\n",
    "    return a*b"
   ]
  },
  {
   "cell_type": "code",
   "execution_count": 11,
   "id": "706026b5",
   "metadata": {},
   "outputs": [],
   "source": [
    "tools = [tavily_tool, multiply]"
   ]
  },
  {
   "cell_type": "code",
   "execution_count": 12,
   "id": "cf382894",
   "metadata": {},
   "outputs": [],
   "source": [
    "llm_with_tools = llm.bind_tools(tools)"
   ]
  },
  {
   "cell_type": "code",
   "execution_count": 14,
   "id": "17dd9f73",
   "metadata": {},
   "outputs": [
    {
     "data": {
      "text/plain": [
       "RunnableBinding(bound=ChatGroq(client=<groq.resources.chat.completions.Completions object at 0x000002CF40B73200>, async_client=<groq.resources.chat.completions.AsyncCompletions object at 0x000002CF40C49E20>, model_name='llama-3.3-70b-versatile', model_kwargs={}, groq_api_key=SecretStr('**********')), kwargs={'tools': [{'type': 'function', 'function': {'name': 'tavily_search', 'description': 'A search engine optimized for comprehensive, accurate, and trusted results. Useful for when you need to answer questions about current events. It not only retrieves URLs and snippets, but offers advanced search depths, domain management, time range filters, and image search, this tool delivers real-time, accurate, and citation-backed results.Input should be a search query.', 'parameters': {'properties': {'query': {'description': 'Search query to look up', 'type': 'string'}, 'include_domains': {'anyOf': [{'items': {'type': 'string'}, 'type': 'array'}, {'type': 'null'}], 'default': [], 'description': 'A list of domains to restrict search results to.\\n\\n        Use this parameter when:\\n        1. The user explicitly requests information from specific websites (e.g., \"Find climate data from nasa.gov\")\\n        2. The user mentions an organization or company without specifying the domain (e.g., \"Find information about iPhones from Apple\")\\n\\n        In both cases, you should determine the appropriate domains (e.g., [\"nasa.gov\"] or [\"apple.com\"]) and set this parameter.\\n\\n        Results will ONLY come from the specified domains - no other sources will be included.\\n        Default is None (no domain restriction).\\n        '}, 'exclude_domains': {'anyOf': [{'items': {'type': 'string'}, 'type': 'array'}, {'type': 'null'}], 'default': [], 'description': 'A list of domains to exclude from search results.\\n\\n        Use this parameter when:\\n        1. The user explicitly requests to avoid certain websites (e.g., \"Find information about climate change but not from twitter.com\")\\n        2. The user mentions not wanting results from specific organizations without naming the domain (e.g., \"Find phone reviews but nothing from Apple\")\\n\\n        In both cases, you should determine the appropriate domains to exclude (e.g., [\"twitter.com\"] or [\"apple.com\"]) and set this parameter.\\n\\n        Results will filter out all content from the specified domains.\\n        Default is None (no domain exclusion).\\n        '}, 'search_depth': {'anyOf': [{'enum': ['basic', 'advanced'], 'type': 'string'}, {'type': 'null'}], 'default': 'basic', 'description': 'Controls search thoroughness and result comprehensiveness.\\n    \\n        Use \"basic\" for simple queries requiring quick, straightforward answers.\\n        \\n        Use \"advanced\" (default) for complex queries, specialized topics, \\n        rare information, or when in-depth analysis is needed.\\n        '}, 'include_images': {'anyOf': [{'type': 'boolean'}, {'type': 'null'}], 'default': False, 'description': 'Determines if the search returns relevant images along with text results.\\n   \\n        Set to True when the user explicitly requests visuals or when images would \\n        significantly enhance understanding (e.g., \"Show me what black holes look like,\" \\n        \"Find pictures of Renaissance art\").\\n        \\n        Leave as False (default) for most informational queries where text is sufficient.\\n        '}, 'time_range': {'anyOf': [{'enum': ['day', 'week', 'month', 'year'], 'type': 'string'}, {'type': 'null'}], 'default': None, 'description': 'Limits results to content published within a specific timeframe.\\n        \\n        ONLY set this when the user explicitly mentions a time period \\n        (e.g., \"latest AI news,\" \"articles from last week\").\\n        \\n        For less popular or niche topics, use broader time ranges \\n        (\"month\" or \"year\") to ensure sufficient relevant results.\\n   \\n        Options: \"day\" (24h), \"week\" (7d), \"month\" (30d), \"year\" (365d).\\n        \\n        Default is None.\\n        '}, 'topic': {'anyOf': [{'enum': ['general', 'news', 'finance'], 'type': 'string'}, {'type': 'null'}], 'default': 'general', 'description': 'Specifies search category for optimized results.\\n   \\n        Use \"general\" (default) for most queries, INCLUDING those with terms like \\n        \"latest,\" \"newest,\" or \"recent\" when referring to general information.\\n\\n        Use \"finance\" for markets, investments, economic data, or financial news.\\n\\n        Use \"news\" ONLY for politics, sports, or major current events covered by \\n        mainstream media - NOT simply because a query asks for \"new\" information.\\n        '}, 'include_favicon': {'anyOf': [{'type': 'boolean'}, {'type': 'null'}], 'default': False, 'description': \"Determines whether to include favicon URLs for each search result.\\n        \\n        When enabled, each search result will include the website's favicon URL,\\n        which can be useful for:\\n        - Building rich UI interfaces with visual website indicators\\n        - Providing visual cues about the source's credibility or brand\\n        - Creating bookmark-like displays with recognizable site icons\\n        \\n        Set to True when creating user interfaces that benefit from visual branding\\n        or when favicon information enhances the user experience.\\n        \\n        Default is False to minimize response size and API usage.\\n        \"}, 'start_date': {'anyOf': [{'type': 'string'}, {'type': 'null'}], 'default': None, 'description': 'Filters search results to include only content published on or after this date.\\n        \\n        Use this parameter when you need to:\\n        - Find recent developments or updates on a topic\\n        - Exclude outdated information from search results\\n        - Focus on content within a specific timeframe\\n        - Combine with end_date to create a custom date range\\n        \\n        Format must be YYYY-MM-DD (e.g., \"2024-01-15\" for January 15, 2024).\\n        \\n        Examples:\\n        - \"2024-01-01\" - Results from January 1, 2024 onwards\\n        - \"2023-12-25\" - Results from December 25, 2023 onwards\\n        \\n        When combined with end_date, creates a precise date range filter.\\n        \\n        Default is None (no start date restriction).\\n        '}, 'end_date': {'anyOf': [{'type': 'string'}, {'type': 'null'}], 'default': None, 'description': 'Filters search results to include only content published on or before this date.\\n        \\n        Use this parameter when you need to:\\n        - Exclude content published after a certain date\\n        - Study historical information or past events\\n        - Research how topics were covered during specific time periods\\n        - Combine with start_date to create a custom date range\\n        \\n        Format must be YYYY-MM-DD (e.g., \"2024-03-31\" for March 31, 2024).\\n        \\n        Examples:\\n        - \"2024-03-31\" - Results up to and including March 31, 2024\\n        - \"2023-12-31\" - Results up to and including December 31, 2023\\n        \\n        When combined with start_date, creates a precise date range filter.\\n        For example: start_date=\"2024-01-01\", end_date=\"2024-03-31\" \\n        returns results from Q1 2024 only.\\n        \\n        Default is None (no end date restriction).\\n        '}}, 'required': ['query'], 'type': 'object'}}}, {'type': 'function', 'function': {'name': 'multiply', 'description': 'Multiply a and b\\nArgs: \\n   a in integer is the first number,\\n   b is the second number in integer.\\nReturns: \\n    int: result of multiplication of a and b', 'parameters': {'properties': {'a': {'type': 'integer'}, 'b': {'type': 'integer'}}, 'required': ['a', 'b'], 'type': 'object'}}}]}, config={}, config_factories=[])"
      ]
     },
     "execution_count": 14,
     "metadata": {},
     "output_type": "execute_result"
    }
   ],
   "source": [
    "llm_with_tools"
   ]
  },
  {
   "cell_type": "code",
   "execution_count": 15,
   "id": "5a526431",
   "metadata": {},
   "outputs": [],
   "source": [
    "from langgraph.graph import StateGraph,START,END\n",
    "from langgraph.prebuilt import ToolNode\n",
    "from langgraph.prebuilt import tools_condition\n"
   ]
  },
  {
   "cell_type": "code",
   "execution_count": 29,
   "id": "5553d42a",
   "metadata": {},
   "outputs": [],
   "source": [
    "from typing import Annotated\n",
    "\n",
    "from typing_extensions import TypedDict\n",
    "from langgraph.graph import START, END, StateGraph  \n",
    "from langgraph.graph.message import add_messages   #reducers\n",
    "\n",
    "class State(TypedDict):\n",
    "    messages:Annotated[list,add_messages] # updates the messhaes rather than overwriding them.\n",
    "    \n",
    "graph = StateGraph(State)"
   ]
  },
  {
   "cell_type": "code",
   "execution_count": 30,
   "id": "d0a8894f",
   "metadata": {},
   "outputs": [
    {
     "data": {
      "image/png": "[encoded data removed]",
      "text/plain": [
       "<langgraph.graph.state.CompiledStateGraph object at 0x000002CF40923020>"
      ]
     },
     "execution_count": 30,
     "metadata": {},
     "output_type": "execute_result"
    }
   ],
   "source": [
    "def tool_calling_llm(state:State):\n",
    "    return {\"messages\":[llm_with_tools.invoke(state['messages'])]}\n",
    "\n",
    "graph.add_node(\"tool_calling_llm\", tool_calling_llm)\n",
    "graph.add_node(\"tools\", ToolNode(tools))\n",
    "\n",
    "graph.add_edge(START, \"tool_calling_llm\")\n",
    "graph.add_conditional_edges(\"tool_calling_llm\",tools_condition)\n",
    "graph.add_edge(\"tools\", \"tool_calling_llm\")\n",
    "graph.compile()"
   ]
  },
  {
   "cell_type": "code",
   "execution_count": 31,
   "id": "f3ed0254",
   "metadata": {},
   "outputs": [],
   "source": [
    "graph=graph.compile()"
   ]
  },
  {
   "cell_type": "code",
   "execution_count": 32,
   "id": "c54b44da",
   "metadata": {},
   "outputs": [
    {
     "name": "stdout",
     "output_type": "stream",
     "text": [
      "================================\u001b[1m Human Message \u001b[0m=================================\n",
      "\n",
      "Give me latest news on AI, multiply 5 and 2\n",
      "==================================\u001b[1m Ai Message \u001b[0m==================================\n",
      "Tool Calls:\n",
      "  tavily_search (rpvqvyhvd)\n",
      " Call ID: rpvqvyhvd\n",
      "  Args:\n",
      "    query: latest AI news\n",
      "    search_depth: advanced\n",
      "    topic: general\n",
      "  multiply (58m5swnff)\n",
      " Call ID: 58m5swnff\n",
      "  Args:\n",
      "    a: 5\n",
      "    b: 2\n",
      "=================================\u001b[1m Tool Message \u001b[0m=================================\n",
      "Name: tavily_search\n",
      "\n",
      "{\"query\": \"latest AI news\", \"follow_up_questions\": null, \"answer\": null, \"images\": [], \"results\": [{\"url\": \"https://www.artificialintelligence-news.com/\", \"title\": \"AI News | Latest AI News, Analysis & Events\", \"content\": \"Malaysia launches Ryt Bank, its first AI-powered bank · Finance AI. August 26, 2025 ; Google's Veo 3 AI video creation tools are now widely available · AI in\", \"score\": 0.98516, \"raw_content\": null}, {\"url\": \"https://hai.stanford.edu/ai-index/2025-ai-index-report\", \"title\": \"The 2025 AI Index Report | Stanford HAI\", \"content\": \"Generative AI saw particularly strong momentum, attracting $33.9 billion globally in private investment—an 18.7% increase from 2023. AI business usage is also\", \"score\": 0.97917, \"raw_content\": null}, {\"url\": \"https://digitaldefynd.com/IQ/future-trends-after-ai/\", \"title\": \"What after AI? 20 Trends that will define the future [2025]\", \"content\": \"From Artificial General Intelligence (AGI) and brain-to-brain communication to digital immortality, biofabrication, and ethicaltechnologygovernance, these\", \"score\": 0.97474, \"raw_content\": null}, {\"url\": \"https://www.nytimes.com/spotlight/artificial-intelligence\", \"title\": \"Artificial Intelligence - The New York Times\", \"content\": \"Corporate spending on artificial intelligence is surging as executives bank on major efficiency gains. So far, they report little effect to the bottom line.\", \"score\": 0.97312, \"raw_content\": null}, {\"url\": \"https://www.simplilearn.com/top-technology-trends-and-jobs-article\", \"title\": \"25 New Technology Trends for 2025\", \"content\": \"Sep 18, 2025—1.Generative AI2. Quantum Computing 3. 5G Expansion 4. Virtual Reality (VR) 2.0 5. Augmented Reality (AR) 6. Internet of Things 7. Biotechnology in\", \"score\": 0.97006, \"raw_content\": null}], \"response_time\": 4.44, \"request_id\": \"e5c50e4e-70a9-442b-85f3-00f87fdc2714\"}\n",
      "=================================\u001b[1m Tool Message \u001b[0m=================================\n",
      "Name: multiply\n",
      "\n",
      "10\n",
      "==================================\u001b[1m Ai Message \u001b[0m==================================\n",
      "\n",
      "The latest news on AI includes the launch of Malaysia's first AI-powered bank, Ryt Bank, and the widespread availability of Google's Veo 3 AI video creation tools. Additionally, the 2025 AI Index Report highlights the strong momentum of generative AI, with $33.9 billion in private investment globally, and the increasing usage of AI in business. Other trends that will define the future include Artificial General Intelligence (AGI), brain-to-brain communication, digital immortality, biofabrication, and ethical technology governance. Corporate spending on AI is also surging, with executives expecting major efficiency gains. \n",
      "\n",
      "The result of multiplying 5 and 2 is 10.\n"
     ]
    }
   ],
   "source": [
    "res=graph.invoke({\"messages\":\"Give me latest news on AI, multiply 5 and 2\"})\n",
    "\n",
    "for res in res['messages']:\n",
    "    res.pretty_print()"
   ]
  },
  {
   "cell_type": "markdown",
   "id": "510b3a19",
   "metadata": {},
   "source": [
    "Memory including to the LLM"
   ]
  },
  {
   "cell_type": "code",
   "execution_count": 33,
   "id": "e7432aad",
   "metadata": {},
   "outputs": [
    {
     "name": "stdout",
     "output_type": "stream",
     "text": [
      "================================\u001b[1m Human Message \u001b[0m=================================\n",
      "\n",
      "Hi this is MBYR\n",
      "==================================\u001b[1m Ai Message \u001b[0m==================================\n",
      "\n",
      "Hello MBYR, it's nice to meet you. Is there something I can help you with or would you like to chat?\n"
     ]
    }
   ],
   "source": [
    "res = graph.invoke({\"messages\":\"Hi this is MBYR\"})\n",
    "\n",
    "for res in res['messages']:\n",
    "    res.pretty_print()"
   ]
  },
  {
   "cell_type": "code",
   "execution_count": 34,
   "id": "3cc613b7",
   "metadata": {},
   "outputs": [
    {
     "name": "stdout",
     "output_type": "stream",
     "text": [
      "================================\u001b[1m Human Message \u001b[0m=================================\n",
      "\n",
      "What is my Name?\n",
      "==================================\u001b[1m Ai Message \u001b[0m==================================\n",
      "\n",
      "I don't have any information about your name. This conversation just started, and I don't have any context or prior knowledge about you. If you'd like to share your name, I'd be happy to chat with you!\n"
     ]
    }
   ],
   "source": [
    "res = graph.invoke({\"messages\":\"What is my Name?\"})\n",
    "\n",
    "for res in res['messages']:\n",
    "    res.pretty_print()"
   ]
  },
  {
   "cell_type": "code",
   "execution_count": 36,
   "id": "25fbb51c",
   "metadata": {},
   "outputs": [],
   "source": [
    "from langgraph.checkpoint.memory import MemorySaver\n",
    "\n",
    "memory = MemorySaver() # in memory checkpoint memory saver dictionary"
   ]
  },
  {
   "cell_type": "code",
   "execution_count": 39,
   "id": "4daa968a",
   "metadata": {},
   "outputs": [],
   "source": [
    "from typing import Annotated\n",
    "\n",
    "from typing_extensions import TypedDict\n",
    "from langgraph.graph import START, END, StateGraph  \n",
    "from langgraph.graph.message import add_messages   #reducers\n",
    "\n",
    "class State(TypedDict):\n",
    "    messages:Annotated[list,add_messages] # updates the messhaes rather than overwriding them.\n",
    "    \n",
    "graph = StateGraph(State)\n",
    "def tool_calling_llm(state:State):\n",
    "    return {\"messages\":[llm_with_tools.invoke(state['messages'])]}\n",
    "\n",
    "graph.add_node(\"tool_calling_llm\", tool_calling_llm)\n",
    "graph.add_node(\"tools\", ToolNode(tools))\n",
    "\n",
    "graph.add_edge(START, \"tool_calling_llm\")\n",
    "graph.add_conditional_edges(\"tool_calling_llm\",tools_condition)\n",
    "graph.add_edge(\"tools\", \"tool_calling_llm\")\n",
    "#graph.compile()\n",
    "\n",
    "graph=graph.compile(checkpointer=memory)"
   ]
  },
  {
   "cell_type": "code",
   "execution_count": 46,
   "id": "9f4ef488",
   "metadata": {},
   "outputs": [],
   "source": [
    "config={\"configurable\":{\"thread_id\":\"1\"}}"
   ]
  },
  {
   "cell_type": "code",
   "execution_count": 47,
   "id": "863e0788",
   "metadata": {},
   "outputs": [
    {
     "name": "stdout",
     "output_type": "stream",
     "text": [
      "================================\u001b[1m Human Message \u001b[0m=================================\n",
      "\n",
      "My name is MBYR\n",
      "==================================\u001b[1m Ai Message \u001b[0m==================================\n",
      "\n",
      "Hello MBYR, it's nice to meet you. Is there something I can help you with or would you like to chat?\n",
      "================================\u001b[1m Human Message \u001b[0m=================================\n",
      "\n",
      "What is my Name?\n",
      "==================================\u001b[1m Ai Message \u001b[0m==================================\n",
      "\n",
      "Your name is MBYR.\n",
      "================================\u001b[1m Human Message \u001b[0m=================================\n",
      "\n",
      "My name is MBYR\n",
      "==================================\u001b[1m Ai Message \u001b[0m==================================\n",
      "Tool Calls:\n",
      "  tavily_search (6hhba7r9a)\n",
      " Call ID: 6hhba7r9a\n",
      "  Args:\n",
      "    query: MBYR\n",
      "    search_depth: basic\n",
      "    topic: general\n",
      "=================================\u001b[1m Tool Message \u001b[0m=================================\n",
      "Name: tavily_search\n",
      "\n",
      "{\"query\": \"MBYR\", \"follow_up_questions\": null, \"answer\": null, \"images\": [], \"results\": [{\"url\": \"https://www.instagram.com/the_quiet_bard/?hl=en\", \"title\": \"M.B.Y.R. (@the_quiet_bard) • Instagram photos and videos\", \"content\": \"Writer. \\\"So here she is, you read her now; She crawled back to me loyally. Her life I freely will allow; She is my written POETRY.\\\"\", \"score\": 0.9854, \"raw_content\": null}, {\"url\": \"https://github.com/mbyr\", \"title\": \"Michal mbyr\", \"content\": \"mbyrhas 5 repositories available. Follow their code on GitHub.\", \"score\": 0.98179, \"raw_content\": null}, {\"url\": \"https://www.youtube.com/channel/UCz1VHbzuaDvTmOhHQN68iTQ\", \"title\": \"MBYR\", \"content\": \"Just two bros playing Minecraft! MBYR means Minecraft bros yakub Reuben! ...more. Just two bros playing Minecraft! MBYR means Minecraft bros yakub Reuben!\", \"score\": 0.97637, \"raw_content\": null}, {\"url\": \"https://www.pinterest.com/mbyr9385/\", \"title\": \"Mbyr (mbyr9385) - Profile\", \"content\": \"Mbyr; تعليم التصرير · 2 Pins · 4y ; Dream backyard · 1 Pin · 4y ; Aesthetic iphone wallpaper · 1 Pin · 4y ; تصميم لوحه · 23 Pins · 3y.\", \"score\": 0.9731, \"raw_content\": null}, {\"url\": \"https://www.instagram.com/ambyrbambyr/?hl=en\", \"title\": \"Ambyr Bambyr Mishelle (@ambyrbambyr)\", \"content\": \"226 posts · 2,465 followers · 1,708 following. ambyrbambyr.Ambyr Bambyr Mishelle. Personal blog. Welcome to the Bambyr zone EMBRACE THE CHAOS . . STUNT REEL ⤵️\", \"score\": 0.96743, \"raw_content\": null}], \"response_time\": 2.52, \"request_id\": \"7aef1353-ee92-47fa-bcb0-9d94118f985e\"}\n",
      "==================================\u001b[1m Ai Message \u001b[0m==================================\n",
      "\n",
      "Your name is MBYR. It seems that there are various individuals and entities associated with this name, including a writer, a GitHub user, a YouTube channel, and social media profiles. If you could provide more context or information about which MBYR you are referring to, I may be able to provide more specific and relevant results.\n"
     ]
    }
   ],
   "source": [
    "res = graph.invoke({\"messages\":\"My name is MBYR\"}, config=config)\n",
    "\n",
    "for res in res['messages']:\n",
    "    res.pretty_print()"
   ]
  },
  {
   "cell_type": "code",
   "execution_count": 45,
   "id": "d45b2596",
   "metadata": {},
   "outputs": [],
   "source": [
    "config_temp = {\"configurable\":{\"thread_id\":\"12345\"}}"
   ]
  },
  {
   "cell_type": "code",
   "execution_count": 48,
   "id": "ef823c9d",
   "metadata": {},
   "outputs": [
    {
     "name": "stdout",
     "output_type": "stream",
     "text": [
      "================================\u001b[1m Human Message \u001b[0m=================================\n",
      "\n",
      "What is my Name?\n",
      "==================================\u001b[1m Ai Message \u001b[0m==================================\n",
      "\n",
      "I don't have any information about your name. This conversation just started, and I don't have the ability to access any personal information about you. If you'd like to share your name, I'd be happy to chat with you!\n",
      "================================\u001b[1m Human Message \u001b[0m=================================\n",
      "\n",
      "What is my Name?\n",
      "==================================\u001b[1m Ai Message \u001b[0m==================================\n",
      "\n",
      "I don't have enough information to determine your name. If you could provide more context or details, I'd be happy to try and help. Alternatively, if you're looking for information on how to find or retrieve your name, I can try to assist you with that as well.\n"
     ]
    }
   ],
   "source": [
    "res = graph.invoke({\"messages\":\"What is my Name?\"}, config=config_temp)\n",
    "\n",
    "for res in res['messages']:\n",
    "    res.pretty_print()"
   ]
  },
  {
   "cell_type": "code",
   "execution_count": 49,
   "id": "40e8a431",
   "metadata": {},
   "outputs": [
    {
     "name": "stdout",
     "output_type": "stream",
     "text": [
      "================================\u001b[1m Human Message \u001b[0m=================================\n",
      "\n",
      "My name is MBYR\n",
      "==================================\u001b[1m Ai Message \u001b[0m==================================\n",
      "\n",
      "Hello MBYR, it's nice to meet you. Is there something I can help you with or would you like to chat?\n",
      "================================\u001b[1m Human Message \u001b[0m=================================\n",
      "\n",
      "What is my Name?\n",
      "==================================\u001b[1m Ai Message \u001b[0m==================================\n",
      "\n",
      "Your name is MBYR.\n",
      "================================\u001b[1m Human Message \u001b[0m=================================\n",
      "\n",
      "My name is MBYR\n",
      "==================================\u001b[1m Ai Message \u001b[0m==================================\n",
      "Tool Calls:\n",
      "  tavily_search (6hhba7r9a)\n",
      " Call ID: 6hhba7r9a\n",
      "  Args:\n",
      "    query: MBYR\n",
      "    search_depth: basic\n",
      "    topic: general\n",
      "=================================\u001b[1m Tool Message \u001b[0m=================================\n",
      "Name: tavily_search\n",
      "\n",
      "{\"query\": \"MBYR\", \"follow_up_questions\": null, \"answer\": null, \"images\": [], \"results\": [{\"url\": \"https://www.instagram.com/the_quiet_bard/?hl=en\", \"title\": \"M.B.Y.R. (@the_quiet_bard) • Instagram photos and videos\", \"content\": \"Writer. \\\"So here she is, you read her now; She crawled back to me loyally. Her life I freely will allow; She is my written POETRY.\\\"\", \"score\": 0.9854, \"raw_content\": null}, {\"url\": \"https://github.com/mbyr\", \"title\": \"Michal mbyr\", \"content\": \"mbyrhas 5 repositories available. Follow their code on GitHub.\", \"score\": 0.98179, \"raw_content\": null}, {\"url\": \"https://www.youtube.com/channel/UCz1VHbzuaDvTmOhHQN68iTQ\", \"title\": \"MBYR\", \"content\": \"Just two bros playing Minecraft! MBYR means Minecraft bros yakub Reuben! ...more. Just two bros playing Minecraft! MBYR means Minecraft bros yakub Reuben!\", \"score\": 0.97637, \"raw_content\": null}, {\"url\": \"https://www.pinterest.com/mbyr9385/\", \"title\": \"Mbyr (mbyr9385) - Profile\", \"content\": \"Mbyr; تعليم التصرير · 2 Pins · 4y ; Dream backyard · 1 Pin · 4y ; Aesthetic iphone wallpaper · 1 Pin · 4y ; تصميم لوحه · 23 Pins · 3y.\", \"score\": 0.9731, \"raw_content\": null}, {\"url\": \"https://www.instagram.com/ambyrbambyr/?hl=en\", \"title\": \"Ambyr Bambyr Mishelle (@ambyrbambyr)\", \"content\": \"226 posts · 2,465 followers · 1,708 following. ambyrbambyr.Ambyr Bambyr Mishelle. Personal blog. Welcome to the Bambyr zone EMBRACE THE CHAOS . . STUNT REEL ⤵️\", \"score\": 0.96743, \"raw_content\": null}], \"response_time\": 2.52, \"request_id\": \"7aef1353-ee92-47fa-bcb0-9d94118f985e\"}\n",
      "==================================\u001b[1m Ai Message \u001b[0m==================================\n",
      "\n",
      "Your name is MBYR. It seems that there are various individuals and entities associated with this name, including a writer, a GitHub user, a YouTube channel, and social media profiles. If you could provide more context or information about which MBYR you are referring to, I may be able to provide more specific and relevant results.\n",
      "================================\u001b[1m Human Message \u001b[0m=================================\n",
      "\n",
      "What is my Name?\n",
      "==================================\u001b[1m Ai Message \u001b[0m==================================\n",
      "\n",
      "Your name is MBYR.\n"
     ]
    }
   ],
   "source": [
    "res = graph.invoke({\"messages\":\"What is my Name?\"}, config=config)\n",
    "\n",
    "for res in res['messages']:\n",
    "    res.pretty_print()"
   ]
  },
  {
   "cell_type": "markdown",
   "id": "1acdeb37",
   "metadata": {},
   "source": [
    "Streaming"
   ]
  },
  {
   "cell_type": "code",
   "execution_count": 52,
   "id": "01f4d0da",
   "metadata": {},
   "outputs": [],
   "source": [
    "from langgraph.checkpoint.memory import MemorySaver\n",
    "\n",
    "memory = MemorySaver()"
   ]
  },
  {
   "cell_type": "code",
   "execution_count": 54,
   "id": "e3315441",
   "metadata": {},
   "outputs": [],
   "source": [
    "llm = ChatGroq(model='llama-3.3-70b-versatile')\n",
    "\n",
    "def streaming_bot(state:State):\n",
    "    return {\"messages\":[llm.invoke(state['messages'])]}    "
   ]
  },
  {
   "cell_type": "code",
   "execution_count": 56,
   "id": "a441cd2a",
   "metadata": {},
   "outputs": [
    {
     "ename": "ValueError",
     "evalue": "Failed to reach https://mermaid.ink API while trying to render your graph. Status code: 400.\n\nTo resolve this issue:\n1. Check your internet connection and try again\n2. Try with higher retry settings: `draw_mermaid_png(..., max_retries=5, retry_delay=2.0)`\n3. Use the Pyppeteer rendering method which will render your graph locally in a browser: `draw_mermaid_png(..., draw_method=MermaidDrawMethod.PYPPETEER)`",
     "output_type": "error",
     "traceback": [
      "\u001b[31m---------------------------------------------------------------------------\u001b[39m",
      "\u001b[31mValueError\u001b[39m                                Traceback (most recent call last)",
      "\u001b[36mFile \u001b[39m\u001b[32md:\\AgenticLangGraph\\Agentic_langGraph\\myvenv\\Lib\\site-packages\\IPython\\core\\formatters.py:1036\u001b[39m, in \u001b[36mMimeBundleFormatter.__call__\u001b[39m\u001b[34m(self, obj, include, exclude)\u001b[39m\n\u001b[32m   1033\u001b[39m     method = get_real_method(obj, \u001b[38;5;28mself\u001b[39m.print_method)\n\u001b[32m   1035\u001b[39m     \u001b[38;5;28;01mif\u001b[39;00m method \u001b[38;5;129;01mis\u001b[39;00m \u001b[38;5;129;01mnot\u001b[39;00m \u001b[38;5;28;01mNone\u001b[39;00m:\n\u001b[32m-> \u001b[39m\u001b[32m1036\u001b[39m         \u001b[38;5;28;01mreturn\u001b[39;00m \u001b[43mmethod\u001b[49m\u001b[43m(\u001b[49m\u001b[43minclude\u001b[49m\u001b[43m=\u001b[49m\u001b[43minclude\u001b[49m\u001b[43m,\u001b[49m\u001b[43m \u001b[49m\u001b[43mexclude\u001b[49m\u001b[43m=\u001b[49m\u001b[43mexclude\u001b[49m\u001b[43m)\u001b[49m\n\u001b[32m   1037\u001b[39m     \u001b[38;5;28;01mreturn\u001b[39;00m \u001b[38;5;28;01mNone\u001b[39;00m\n\u001b[32m   1038\u001b[39m \u001b[38;5;28;01melse\u001b[39;00m:\n",
      "\u001b[36mFile \u001b[39m\u001b[32md:\\AgenticLangGraph\\Agentic_langGraph\\myvenv\\Lib\\site-packages\\langgraph\\pregel\\main.py:769\u001b[39m, in \u001b[36mPregel._repr_mimebundle_\u001b[39m\u001b[34m(self, **kwargs)\u001b[39m\n\u001b[32m    765\u001b[39m \u001b[38;5;28;01mdef\u001b[39;00m\u001b[38;5;250m \u001b[39m\u001b[34m_repr_mimebundle_\u001b[39m(\u001b[38;5;28mself\u001b[39m, **kwargs: Any) -> \u001b[38;5;28mdict\u001b[39m[\u001b[38;5;28mstr\u001b[39m, Any]:\n\u001b[32m    766\u001b[39m \u001b[38;5;250m    \u001b[39m\u001b[33;03m\"\"\"Mime bundle used by Jupyter to display the graph\"\"\"\u001b[39;00m\n\u001b[32m    767\u001b[39m     \u001b[38;5;28;01mreturn\u001b[39;00m {\n\u001b[32m    768\u001b[39m         \u001b[33m\"\u001b[39m\u001b[33mtext/plain\u001b[39m\u001b[33m\"\u001b[39m: \u001b[38;5;28mrepr\u001b[39m(\u001b[38;5;28mself\u001b[39m),\n\u001b[32m--> \u001b[39m\u001b[32m769\u001b[39m         \u001b[33m\"\u001b[39m\u001b[33mimage/png\u001b[39m\u001b[33m\"\u001b[39m: \u001b[38;5;28;43mself\u001b[39;49m\u001b[43m.\u001b[49m\u001b[43mget_graph\u001b[49m\u001b[43m(\u001b[49m\u001b[43m)\u001b[49m\u001b[43m.\u001b[49m\u001b[43mdraw_mermaid_png\u001b[49m\u001b[43m(\u001b[49m\u001b[43m)\u001b[49m,\n\u001b[32m    770\u001b[39m     }\n",
      "\u001b[36mFile \u001b[39m\u001b[32md:\\AgenticLangGraph\\Agentic_langGraph\\myvenv\\Lib\\site-packages\\langchain_core\\runnables\\graph.py:704\u001b[39m, in \u001b[36mGraph.draw_mermaid_png\u001b[39m\u001b[34m(self, curve_style, node_colors, wrap_label_n_words, output_file_path, draw_method, background_color, padding, max_retries, retry_delay, frontmatter_config, base_url)\u001b[39m\n\u001b[32m    694\u001b[39m \u001b[38;5;28;01mfrom\u001b[39;00m\u001b[38;5;250m \u001b[39m\u001b[34;01mlangchain_core\u001b[39;00m\u001b[34;01m.\u001b[39;00m\u001b[34;01mrunnables\u001b[39;00m\u001b[34;01m.\u001b[39;00m\u001b[34;01mgraph_mermaid\u001b[39;00m\u001b[38;5;250m \u001b[39m\u001b[38;5;28;01mimport\u001b[39;00m (  \u001b[38;5;66;03m# noqa: PLC0415\u001b[39;00m\n\u001b[32m    695\u001b[39m     draw_mermaid_png,\n\u001b[32m    696\u001b[39m )\n\u001b[32m    698\u001b[39m mermaid_syntax = \u001b[38;5;28mself\u001b[39m.draw_mermaid(\n\u001b[32m    699\u001b[39m     curve_style=curve_style,\n\u001b[32m    700\u001b[39m     node_colors=node_colors,\n\u001b[32m    701\u001b[39m     wrap_label_n_words=wrap_label_n_words,\n\u001b[32m    702\u001b[39m     frontmatter_config=frontmatter_config,\n\u001b[32m    703\u001b[39m )\n\u001b[32m--> \u001b[39m\u001b[32m704\u001b[39m \u001b[38;5;28;01mreturn\u001b[39;00m \u001b[43mdraw_mermaid_png\u001b[49m\u001b[43m(\u001b[49m\n\u001b[32m    705\u001b[39m \u001b[43m    \u001b[49m\u001b[43mmermaid_syntax\u001b[49m\u001b[43m=\u001b[49m\u001b[43mmermaid_syntax\u001b[49m\u001b[43m,\u001b[49m\n\u001b[32m    706\u001b[39m \u001b[43m    \u001b[49m\u001b[43moutput_file_path\u001b[49m\u001b[43m=\u001b[49m\u001b[43moutput_file_path\u001b[49m\u001b[43m,\u001b[49m\n\u001b[32m    707\u001b[39m \u001b[43m    \u001b[49m\u001b[43mdraw_method\u001b[49m\u001b[43m=\u001b[49m\u001b[43mdraw_method\u001b[49m\u001b[43m,\u001b[49m\n\u001b[32m    708\u001b[39m \u001b[43m    \u001b[49m\u001b[43mbackground_color\u001b[49m\u001b[43m=\u001b[49m\u001b[43mbackground_color\u001b[49m\u001b[43m,\u001b[49m\n\u001b[32m    709\u001b[39m \u001b[43m    \u001b[49m\u001b[43mpadding\u001b[49m\u001b[43m=\u001b[49m\u001b[43mpadding\u001b[49m\u001b[43m,\u001b[49m\n\u001b[32m    710\u001b[39m \u001b[43m    \u001b[49m\u001b[43mmax_retries\u001b[49m\u001b[43m=\u001b[49m\u001b[43mmax_retries\u001b[49m\u001b[43m,\u001b[49m\n\u001b[32m    711\u001b[39m \u001b[43m    \u001b[49m\u001b[43mretry_delay\u001b[49m\u001b[43m=\u001b[49m\u001b[43mretry_delay\u001b[49m\u001b[43m,\u001b[49m\n\u001b[32m    712\u001b[39m \u001b[43m    \u001b[49m\u001b[43mbase_url\u001b[49m\u001b[43m=\u001b[49m\u001b[43mbase_url\u001b[49m\u001b[43m,\u001b[49m\n\u001b[32m    713\u001b[39m \u001b[43m\u001b[49m\u001b[43m)\u001b[49m\n",
      "\u001b[36mFile \u001b[39m\u001b[32md:\\AgenticLangGraph\\Agentic_langGraph\\myvenv\\Lib\\site-packages\\langchain_core\\runnables\\graph_mermaid.py:322\u001b[39m, in \u001b[36mdraw_mermaid_png\u001b[39m\u001b[34m(mermaid_syntax, output_file_path, draw_method, background_color, padding, max_retries, retry_delay, base_url)\u001b[39m\n\u001b[32m    316\u001b[39m     img_bytes = asyncio.run(\n\u001b[32m    317\u001b[39m         _render_mermaid_using_pyppeteer(\n\u001b[32m    318\u001b[39m             mermaid_syntax, output_file_path, background_color, padding\n\u001b[32m    319\u001b[39m         )\n\u001b[32m    320\u001b[39m     )\n\u001b[32m    321\u001b[39m \u001b[38;5;28;01melif\u001b[39;00m draw_method == MermaidDrawMethod.API:\n\u001b[32m--> \u001b[39m\u001b[32m322\u001b[39m     img_bytes = \u001b[43m_render_mermaid_using_api\u001b[49m\u001b[43m(\u001b[49m\n\u001b[32m    323\u001b[39m \u001b[43m        \u001b[49m\u001b[43mmermaid_syntax\u001b[49m\u001b[43m,\u001b[49m\n\u001b[32m    324\u001b[39m \u001b[43m        \u001b[49m\u001b[43moutput_file_path\u001b[49m\u001b[43m=\u001b[49m\u001b[43moutput_file_path\u001b[49m\u001b[43m,\u001b[49m\n\u001b[32m    325\u001b[39m \u001b[43m        \u001b[49m\u001b[43mbackground_color\u001b[49m\u001b[43m=\u001b[49m\u001b[43mbackground_color\u001b[49m\u001b[43m,\u001b[49m\n\u001b[32m    326\u001b[39m \u001b[43m        \u001b[49m\u001b[43mmax_retries\u001b[49m\u001b[43m=\u001b[49m\u001b[43mmax_retries\u001b[49m\u001b[43m,\u001b[49m\n\u001b[32m    327\u001b[39m \u001b[43m        \u001b[49m\u001b[43mretry_delay\u001b[49m\u001b[43m=\u001b[49m\u001b[43mretry_delay\u001b[49m\u001b[43m,\u001b[49m\n\u001b[32m    328\u001b[39m \u001b[43m        \u001b[49m\u001b[43mbase_url\u001b[49m\u001b[43m=\u001b[49m\u001b[43mbase_url\u001b[49m\u001b[43m,\u001b[49m\n\u001b[32m    329\u001b[39m \u001b[43m    \u001b[49m\u001b[43m)\u001b[49m\n\u001b[32m    330\u001b[39m \u001b[38;5;28;01melse\u001b[39;00m:\n\u001b[32m    331\u001b[39m     supported_methods = \u001b[33m\"\u001b[39m\u001b[33m, \u001b[39m\u001b[33m\"\u001b[39m.join([m.value \u001b[38;5;28;01mfor\u001b[39;00m m \u001b[38;5;129;01min\u001b[39;00m MermaidDrawMethod])\n",
      "\u001b[36mFile \u001b[39m\u001b[32md:\\AgenticLangGraph\\Agentic_langGraph\\myvenv\\Lib\\site-packages\\langchain_core\\runnables\\graph_mermaid.py:480\u001b[39m, in \u001b[36m_render_mermaid_using_api\u001b[39m\u001b[34m(mermaid_syntax, output_file_path, background_color, file_type, max_retries, retry_delay, base_url)\u001b[39m\n\u001b[32m    475\u001b[39m     \u001b[38;5;66;03m# For other status codes, fail immediately\u001b[39;00m\n\u001b[32m    476\u001b[39m     msg = (\n\u001b[32m    477\u001b[39m         \u001b[33mf\u001b[39m\u001b[33m\"\u001b[39m\u001b[33mFailed to reach \u001b[39m\u001b[38;5;132;01m{\u001b[39;00mbase_url\u001b[38;5;132;01m}\u001b[39;00m\u001b[33m API while trying to render \u001b[39m\u001b[33m\"\u001b[39m\n\u001b[32m    478\u001b[39m         \u001b[33mf\u001b[39m\u001b[33m\"\u001b[39m\u001b[33myour graph. Status code: \u001b[39m\u001b[38;5;132;01m{\u001b[39;00mresponse.status_code\u001b[38;5;132;01m}\u001b[39;00m\u001b[33m.\u001b[39m\u001b[38;5;130;01m\\n\u001b[39;00m\u001b[38;5;130;01m\\n\u001b[39;00m\u001b[33m\"\u001b[39m\n\u001b[32m    479\u001b[39m     ) + error_msg_suffix\n\u001b[32m--> \u001b[39m\u001b[32m480\u001b[39m     \u001b[38;5;28;01mraise\u001b[39;00m \u001b[38;5;167;01mValueError\u001b[39;00m(msg)\n\u001b[32m    482\u001b[39m \u001b[38;5;28;01mexcept\u001b[39;00m (requests.RequestException, requests.Timeout) \u001b[38;5;28;01mas\u001b[39;00m e:\n\u001b[32m    483\u001b[39m     \u001b[38;5;28;01mif\u001b[39;00m attempt < max_retries:\n\u001b[32m    484\u001b[39m         \u001b[38;5;66;03m# Exponential backoff with jitter\u001b[39;00m\n",
      "\u001b[31mValueError\u001b[39m: Failed to reach https://mermaid.ink API while trying to render your graph. Status code: 400.\n\nTo resolve this issue:\n1. Check your internet connection and try again\n2. Try with higher retry settings: `draw_mermaid_png(..., max_retries=5, retry_delay=2.0)`\n3. Use the Pyppeteer rendering method which will render your graph locally in a browser: `draw_mermaid_png(..., draw_method=MermaidDrawMethod.PYPPETEER)`"
     ]
    },
    {
     "data": {
      "text/plain": [
       "<langgraph.graph.state.CompiledStateGraph at 0x2cf40c4a0f0>"
      ]
     },
     "execution_count": 56,
     "metadata": {},
     "output_type": "execute_result"
    }
   ],
   "source": [
    "graph_builder = StateGraph(State)\n",
    "\n",
    "graph_builder.add_node(\"streaming_bot\", streaming_bot)\n",
    "\n",
    "graph_builder.add_edge(START, \"streaming_bot\")\n",
    "graph_builder.add_edge(\"streaming_bot\", END)\n",
    "\n",
    "graph_builder.compile(checkpointer=memory)"
   ]
  },
  {
   "cell_type": "code",
   "execution_count": 63,
   "id": "535e07e3",
   "metadata": {},
   "outputs": [],
   "source": [
    "graph=graph_builder.compile(checkpointer=memory)"
   ]
  },
  {
   "cell_type": "code",
   "execution_count": 64,
   "id": "572f251d",
   "metadata": {},
   "outputs": [],
   "source": [
    "config = {\"configurable\":{\"thread_id\":\"1\"}}"
   ]
  },
  {
   "cell_type": "code",
   "execution_count": 65,
   "id": "be28de80",
   "metadata": {},
   "outputs": [
    {
     "data": {
      "text/plain": [
       "{'messages': [HumanMessage(content='Hi this is MBYR, i love to play badminton', additional_kwargs={}, response_metadata={}, id='d6ba45fe-bf3d-49ef-a664-deab74d30f25'),\n",
       "  AIMessage(content=\"Hello MBYR, it's great to hear that you enjoy playing badminton. Badminton is an exciting and fast-paced sport that requires a combination of speed, agility, and hand-eye coordination. What do you like most about playing badminton? Is it the thrill of smashing a winner, the strategy of outmaneuvering your opponent, or something else?\", additional_kwargs={}, response_metadata={'token_usage': {'completion_tokens': 78, 'prompt_tokens': 49, 'total_tokens': 127, 'completion_time': 0.145406288, 'prompt_time': 0.002754908, 'queue_time': 0.048175582, 'total_time': 0.148161196}, 'model_name': 'llama-3.3-70b-versatile', 'system_fingerprint': 'fp_9e1e8f8435', 'service_tier': 'on_demand', 'finish_reason': 'stop', 'logprobs': None}, id='run--68049676-b268-42e4-be5a-cdb00ddad35a-0', usage_metadata={'input_tokens': 49, 'output_tokens': 78, 'total_tokens': 127}),\n",
       "  HumanMessage(content='Hi this is MBYR, i love to play badminton', additional_kwargs={}, response_metadata={}, id='3df3b80f-8da7-49ca-8adb-ce9fc1a70c92'),\n",
       "  AIMessage(content=\"Hi again MBYR, great to see you're enthusiastic about badminton. Do you have a favorite shot or technique in badminton, such as the smash, clear, or net shot? Or perhaps you have a favorite player or team that you look up to?\", additional_kwargs={}, response_metadata={'token_usage': {'completion_tokens': 57, 'prompt_tokens': 150, 'total_tokens': 207, 'completion_time': 0.145672253, 'prompt_time': 0.007757457, 'queue_time': 0.049017568, 'total_time': 0.15342971}, 'model_name': 'llama-3.3-70b-versatile', 'system_fingerprint': 'fp_155ab82e98', 'service_tier': 'on_demand', 'finish_reason': 'stop', 'logprobs': None}, id='run--78647304-44a6-4f05-b553-2c14eb22c443-0', usage_metadata={'input_tokens': 150, 'output_tokens': 57, 'total_tokens': 207})]}"
      ]
     },
     "execution_count": 65,
     "metadata": {},
     "output_type": "execute_result"
    }
   ],
   "source": [
    "graph.invoke({'messages':\"Hi this is MBYR, i love to play badminton\"}, config)"
   ]
  },
  {
   "cell_type": "code",
   "execution_count": 68,
   "id": "f87f2b53",
   "metadata": {},
   "outputs": [
    {
     "name": "stdout",
     "output_type": "stream",
     "text": [
      "{'streaming_bot': {'messages': [AIMessage(content=\"Hello MBYR, it's nice to meet you. Is there something I can help you with or would you like to chat?\", additional_kwargs={}, response_metadata={'token_usage': {'completion_tokens': 28, 'prompt_tokens': 42, 'total_tokens': 70, 'completion_time': 0.049731221, 'prompt_time': 0.002181169, 'queue_time': 0.048893647, 'total_time': 0.05191239}, 'model_name': 'llama-3.3-70b-versatile', 'system_fingerprint': 'fp_155ab82e98', 'service_tier': 'on_demand', 'finish_reason': 'stop', 'logprobs': None}, id='run--a01fb328-0d80-4508-b818-583cc86b05aa-0', usage_metadata={'input_tokens': 42, 'output_tokens': 28, 'total_tokens': 70})]}}\n",
      "{'streaming_bot': {'messages': [AIMessage(content=\"Badminton is a fantastic sport. It's a great way to stay active, improve your hand-eye coordination, and have fun. Do you play badminton competitively or just for recreation? And what's your favorite part about the game? Is it the thrill of smashing a shot, the strategy of outmaneuvering your opponent, or something else?\", additional_kwargs={}, response_metadata={'token_usage': {'completion_tokens': 75, 'prompt_tokens': 86, 'total_tokens': 161, 'completion_time': 0.198740464, 'prompt_time': 0.004667921, 'queue_time': 0.048609349, 'total_time': 0.203408385}, 'model_name': 'llama-3.3-70b-versatile', 'system_fingerprint': 'fp_9e1e8f8435', 'service_tier': 'on_demand', 'finish_reason': 'stop', 'logprobs': None}, id='run--90de8acc-96be-4778-ad2a-d374481ef3ff-0', usage_metadata={'input_tokens': 86, 'output_tokens': 75, 'total_tokens': 161})]}}\n"
     ]
    }
   ],
   "source": [
    "config = {\"configurable\":{\"thread_id\":\"3\"}}\n",
    "\n",
    "for chunk in graph.stream({\"messages\":\"Hi, this is MBYR\"},config,stream_mode=\"updates\"):\n",
    "    print(chunk)\n",
    "    \n",
    "for chunk in graph.stream({\"messages\":\"I love to play badminton\"},config,stream_mode=\"updates\"):\n",
    "    print(chunk)"
   ]
  },
  {
   "cell_type": "code",
   "execution_count": 69,
   "id": "8839211d",
   "metadata": {},
   "outputs": [
    {
     "name": "stdout",
     "output_type": "stream",
     "text": [
      "{'messages': [HumanMessage(content='Hi, this is MBYR', additional_kwargs={}, response_metadata={}, id='ecb70712-0cca-47fe-9537-ea83ccf390e5')]}\n",
      "{'messages': [HumanMessage(content='Hi, this is MBYR', additional_kwargs={}, response_metadata={}, id='ecb70712-0cca-47fe-9537-ea83ccf390e5'), AIMessage(content=\"Hello MBYR, it's nice to meet you. Is there something I can help you with or would you like to chat?\", additional_kwargs={}, response_metadata={'token_usage': {'completion_tokens': 28, 'prompt_tokens': 42, 'total_tokens': 70, 'completion_time': 0.049136265, 'prompt_time': 0.002019842, 'queue_time': 0.048704854, 'total_time': 0.051156107}, 'model_name': 'llama-3.3-70b-versatile', 'system_fingerprint': 'fp_155ab82e98', 'service_tier': 'on_demand', 'finish_reason': 'stop', 'logprobs': None}, id='run--6f326a30-4830-4ebe-9ea6-7073a27721ee-0', usage_metadata={'input_tokens': 42, 'output_tokens': 28, 'total_tokens': 70})]}\n",
      "{'messages': [HumanMessage(content='Hi, this is MBYR', additional_kwargs={}, response_metadata={}, id='ecb70712-0cca-47fe-9537-ea83ccf390e5'), AIMessage(content=\"Hello MBYR, it's nice to meet you. Is there something I can help you with or would you like to chat?\", additional_kwargs={}, response_metadata={'token_usage': {'completion_tokens': 28, 'prompt_tokens': 42, 'total_tokens': 70, 'completion_time': 0.049136265, 'prompt_time': 0.002019842, 'queue_time': 0.048704854, 'total_time': 0.051156107}, 'model_name': 'llama-3.3-70b-versatile', 'system_fingerprint': 'fp_155ab82e98', 'service_tier': 'on_demand', 'finish_reason': 'stop', 'logprobs': None}, id='run--6f326a30-4830-4ebe-9ea6-7073a27721ee-0', usage_metadata={'input_tokens': 42, 'output_tokens': 28, 'total_tokens': 70}), HumanMessage(content='I love to play badminton', additional_kwargs={}, response_metadata={}, id='3a2025d7-e406-4076-afed-f1bad13b049b')]}\n",
      "{'messages': [HumanMessage(content='Hi, this is MBYR', additional_kwargs={}, response_metadata={}, id='ecb70712-0cca-47fe-9537-ea83ccf390e5'), AIMessage(content=\"Hello MBYR, it's nice to meet you. Is there something I can help you with or would you like to chat?\", additional_kwargs={}, response_metadata={'token_usage': {'completion_tokens': 28, 'prompt_tokens': 42, 'total_tokens': 70, 'completion_time': 0.049136265, 'prompt_time': 0.002019842, 'queue_time': 0.048704854, 'total_time': 0.051156107}, 'model_name': 'llama-3.3-70b-versatile', 'system_fingerprint': 'fp_155ab82e98', 'service_tier': 'on_demand', 'finish_reason': 'stop', 'logprobs': None}, id='run--6f326a30-4830-4ebe-9ea6-7073a27721ee-0', usage_metadata={'input_tokens': 42, 'output_tokens': 28, 'total_tokens': 70}), HumanMessage(content='I love to play badminton', additional_kwargs={}, response_metadata={}, id='3a2025d7-e406-4076-afed-f1bad13b049b'), AIMessage(content=\"Badminton is a fantastic sport. It's great exercise and a lot of fun to play, either competitively or just for recreation. Do you have a favorite shot or strategy in badminton? Are you part of a badminton club or do you play with friends?\", additional_kwargs={}, response_metadata={'token_usage': {'completion_tokens': 58, 'prompt_tokens': 86, 'total_tokens': 144, 'completion_time': 0.130314372, 'prompt_time': 0.004118294, 'queue_time': 0.048765176, 'total_time': 0.134432666}, 'model_name': 'llama-3.3-70b-versatile', 'system_fingerprint': 'fp_9e1e8f8435', 'service_tier': 'on_demand', 'finish_reason': 'stop', 'logprobs': None}, id='run--c3681f95-cfbf-4ee2-bdc2-bb510457cebf-0', usage_metadata={'input_tokens': 86, 'output_tokens': 58, 'total_tokens': 144})]}\n"
     ]
    }
   ],
   "source": [
    "config = {\"configurable\":{\"thread_id\":\"4\"}}\n",
    "\n",
    "for chunk in graph.stream({\"messages\":\"Hi, this is MBYR\"},config,stream_mode=\"values\"):\n",
    "    print(chunk)\n",
    "    \n",
    "for chunk in graph.stream({\"messages\":\"I love to play badminton\"},config,stream_mode=\"values\"):\n",
    "    print(chunk)"
   ]
  }
 ],
 "metadata": {
  "kernelspec": {
   "display_name": "myvenv",
   "language": "python",
   "name": "python3"
  },
  "language_info": {
   "codemirror_mode": {
    "name": "ipython",
    "version": 3
   },
   "file_extension": ".py",
   "mimetype": "text/x-python",
   "name": "python",
   "nbconvert_exporter": "python",
   "pygments_lexer": "ipython3",
   "version": "3.12.4"
  }
 },
 "nbformat": 4,
 "nbformat_minor": 5
}
