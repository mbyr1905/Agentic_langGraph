{
 "cells": [
  {
   "cell_type": "code",
   "execution_count": 17,
   "id": "ede9befd",
   "metadata": {},
   "outputs": [],
   "source": [
    "from typing import Annotated\n",
    "\n",
    "from typing_extensions import TypedDict\n",
    "from langgraph.graph import START, END, StateGraph  \n",
    "from langgraph.graph.message import add_messages   #reducers"
   ]
  },
  {
   "cell_type": "code",
   "execution_count": 18,
   "id": "d75e7cd3",
   "metadata": {},
   "outputs": [],
   "source": [
    "class State(TypedDict):\n",
    "    messages:Annotated[list,add_messages] # updates the messhaes rather than overwriding them.\n",
    "    \n",
    "graph = StateGraph(State)"
   ]
  },
  {
   "cell_type": "code",
   "execution_count": 4,
   "id": "a9fe19bb",
   "metadata": {},
   "outputs": [
    {
     "data": {
      "text/plain": [
       "<langgraph.graph.state.StateGraph at 0x27bd0efb110>"
      ]
     },
     "execution_count": 4,
     "metadata": {},
     "output_type": "execute_result"
    }
   ],
   "source": [
    "graph"
   ]
  },
  {
   "cell_type": "code",
   "execution_count": 6,
   "id": "26a0ddde",
   "metadata": {},
   "outputs": [
    {
     "data": {
      "text/plain": [
       "True"
      ]
     },
     "execution_count": 6,
     "metadata": {},
     "output_type": "execute_result"
    }
   ],
   "source": [
    "import os\n",
    "from dotenv import load_dotenv\n",
    "load_dotenv()\n"
   ]
  },
  {
   "cell_type": "code",
   "execution_count": 18,
   "id": "b8977709",
   "metadata": {},
   "outputs": [],
   "source": [
    "from langchain_groq import ChatGroq\n",
    "from langchain.chat_models import init_chat_model\n",
    "\n",
    "llm = ChatGroq(model='llama-3.3-70b-versatile')"
   ]
  },
  {
   "cell_type": "code",
   "execution_count": 19,
   "id": "7944358d",
   "metadata": {},
   "outputs": [
    {
     "data": {
      "text/plain": [
       "ChatGroq(client=<groq.resources.chat.completions.Completions object at 0x0000027BD388BB30>, async_client=<groq.resources.chat.completions.AsyncCompletions object at 0x0000027BD3888F50>, model_name='llama-3.3-70b-versatile', model_kwargs={}, groq_api_key=SecretStr('**********'))"
      ]
     },
     "execution_count": 19,
     "metadata": {},
     "output_type": "execute_result"
    }
   ],
   "source": [
    "llm"
   ]
  },
  {
   "cell_type": "code",
   "execution_count": 9,
   "id": "89a54859",
   "metadata": {},
   "outputs": [],
   "source": [
    "def chatbot(state:State):\n",
    "    return {\"messages\":[llm.invoke(state[\"messages\"])]}"
   ]
  },
  {
   "cell_type": "code",
   "execution_count": 20,
   "id": "5fe8d847",
   "metadata": {},
   "outputs": [],
   "source": [
    "graph = StateGraph(State)\n",
    "\n",
    "graph.add_node(\"llmchatbot\", chatbot)\n",
    "graph.add_edge(START, \"llmchatbot\")\n",
    "graph.add_edge(\"llmchatbot\",END)\n",
    "\n",
    "graph=graph.compile()\n"
   ]
  },
  {
   "cell_type": "code",
   "execution_count": 22,
   "id": "ccae98bf",
   "metadata": {},
   "outputs": [
    {
     "data": {
      "text/plain": [
       "\"It's nice to meet you. Is there something I can help you with or would you like to chat?\""
      ]
     },
     "execution_count": 22,
     "metadata": {},
     "output_type": "execute_result"
    }
   ],
   "source": [
    "response=graph.invoke({\"messages\":[\"hi\"]})\n",
    "response['messages'][-1].content"
   ]
  },
  {
   "cell_type": "code",
   "execution_count": 24,
   "id": "26df9302",
   "metadata": {},
   "outputs": [
    {
     "name": "stdout",
     "output_type": "stream",
     "text": [
      "Hello. I'm just a language model, so I don't have feelings or emotions like humans do, but I'm functioning properly and ready to help with any questions or topics you'd like to discuss. How about you? How's your day going?\n"
     ]
    }
   ],
   "source": [
    "for event in graph.stream({\"messages\":\"Hi how are you\"}):\n",
    "    for value in event.values():\n",
    "        print(value[\"messages\"][-1].content)"
   ]
  },
  {
   "cell_type": "markdown",
   "id": "228d8ecd",
   "metadata": {},
   "source": [
    "LLM with tools"
   ]
  },
  {
   "cell_type": "code",
   "execution_count": 5,
   "id": "a5bbf7c0",
   "metadata": {},
   "outputs": [
    {
     "data": {
      "text/plain": [
       "True"
      ]
     },
     "execution_count": 5,
     "metadata": {},
     "output_type": "execute_result"
    }
   ],
   "source": [
    "import os\n",
    "from dotenv import load_dotenv\n",
    "\n",
    "load_dotenv()"
   ]
  },
  {
   "cell_type": "code",
   "execution_count": 6,
   "id": "28cc7e89",
   "metadata": {},
   "outputs": [],
   "source": [
    "from langchain_groq import ChatGroq\n",
    "from langchain.chat_models import init_chat_model\n",
    "\n",
    "llm = ChatGroq(model='llama-3.3-70b-versatile')"
   ]
  },
  {
   "cell_type": "code",
   "execution_count": 8,
   "id": "aefa0413",
   "metadata": {},
   "outputs": [],
   "source": [
    "from langchain_tavily import TavilySearch\n",
    "tavily_tool = TavilySearch(max_results=5) "
   ]
  },
  {
   "cell_type": "code",
   "execution_count": 9,
   "id": "daef49ea",
   "metadata": {},
   "outputs": [
    {
     "data": {
      "text/plain": [
       "{'query': 'recent news on ML',\n",
       " 'follow_up_questions': None,\n",
       " 'answer': None,\n",
       " 'images': [],\n",
       " 'results': [{'url': 'https://aibusiness.com/ml',\n",
       "   'title': 'ML recent news',\n",
       "   'content': 'Explore the latest news and expert commentary on ML, brought to you by the editors of AI Business.',\n",
       "   'score': 0.7570233,\n",
       "   'raw_content': None},\n",
       "  {'url': 'https://techxplore.com/machine-learning-ai-news/',\n",
       "   'title': 'News on Artificial Intelligence and Machine Learning',\n",
       "   'content': 'Machine learning & AI news· OpenAI and chipmaker AMD sign chip supply partnership for AI infrastructure · The reality of wholesale cheating with AI · Additive',\n",
       "   'score': 0.7092009,\n",
       "   'raw_content': None},\n",
       "  {'url': 'https://www.wired.com/tag/machine-learning/',\n",
       "   'title': 'Machine Learning | Latest News, Photos & Videos',\n",
       "   'content': 'Chatbots Play With Your Emotions to Avoid Saying Goodbye· Anthropic Will Use Claude Chats for Training Data. · Meta Poaches OpenAI Scientist to Help Lead AI Lab.',\n",
       "   'score': 0.5524679,\n",
       "   'raw_content': None},\n",
       "  {'url': 'https://groups.google.com/g/ml-news',\n",
       "   'title': 'Machine Learning News',\n",
       "   'content': 'This group serves as a forum for notices and announcements of interest to the machine learning community. This includes events, calls for papers,',\n",
       "   'score': 0.5367749,\n",
       "   'raw_content': None},\n",
       "  {'url': 'https://www.nature.com/subjects/machine-learning',\n",
       "   'title': 'Machine learning - Latest research and news',\n",
       "   'content': 'News and Comment.Will AI ever win its own Nobel? Some predict a prize-worthy science discovery soon. Other researchers question whether autonomous AI',\n",
       "   'score': 0.5354634,\n",
       "   'raw_content': None}],\n",
       " 'response_time': 1.61,\n",
       " 'request_id': 'b6428323-fb2e-49bc-9983-efd6cf03fcb0'}"
      ]
     },
     "execution_count": 9,
     "metadata": {},
     "output_type": "execute_result"
    }
   ],
   "source": [
    "tavily_tool.invoke(\"recent news on ML\")"
   ]
  },
  {
   "cell_type": "code",
   "execution_count": 10,
   "id": "7699cf6e",
   "metadata": {},
   "outputs": [],
   "source": [
    "def multiply(a:int,b:int)->int:\n",
    "    '''\n",
    "    Multiply a and b\n",
    "    Args: \n",
    "       a in integer is the first number,\n",
    "       b is the second number in integer.\n",
    "    Returns: \n",
    "        int: result of multiplication of a and b\n",
    "    '''\n",
    "    return a*b"
   ]
  },
  {
   "cell_type": "code",
   "execution_count": 11,
   "id": "706026b5",
   "metadata": {},
   "outputs": [],
   "source": [
    "tools = [tavily_tool, multiply]"
   ]
  },
  {
   "cell_type": "code",
   "execution_count": 12,
   "id": "cf382894",
   "metadata": {},
   "outputs": [],
   "source": [
    "llm_with_tools = llm.bind_tools(tools)"
   ]
  },
  {
   "cell_type": "code",
   "execution_count": 14,
   "id": "17dd9f73",
   "metadata": {},
   "outputs": [
    {
     "data": {
      "text/plain": [
       "RunnableBinding(bound=ChatGroq(client=<groq.resources.chat.completions.Completions object at 0x000002CF40B73200>, async_client=<groq.resources.chat.completions.AsyncCompletions object at 0x000002CF40C49E20>, model_name='llama-3.3-70b-versatile', model_kwargs={}, groq_api_key=SecretStr('**********')), kwargs={'tools': [{'type': 'function', 'function': {'name': 'tavily_search', 'description': 'A search engine optimized for comprehensive, accurate, and trusted results. Useful for when you need to answer questions about current events. It not only retrieves URLs and snippets, but offers advanced search depths, domain management, time range filters, and image search, this tool delivers real-time, accurate, and citation-backed results.Input should be a search query.', 'parameters': {'properties': {'query': {'description': 'Search query to look up', 'type': 'string'}, 'include_domains': {'anyOf': [{'items': {'type': 'string'}, 'type': 'array'}, {'type': 'null'}], 'default': [], 'description': 'A list of domains to restrict search results to.\\n\\n        Use this parameter when:\\n        1. The user explicitly requests information from specific websites (e.g., \"Find climate data from nasa.gov\")\\n        2. The user mentions an organization or company without specifying the domain (e.g., \"Find information about iPhones from Apple\")\\n\\n        In both cases, you should determine the appropriate domains (e.g., [\"nasa.gov\"] or [\"apple.com\"]) and set this parameter.\\n\\n        Results will ONLY come from the specified domains - no other sources will be included.\\n        Default is None (no domain restriction).\\n        '}, 'exclude_domains': {'anyOf': [{'items': {'type': 'string'}, 'type': 'array'}, {'type': 'null'}], 'default': [], 'description': 'A list of domains to exclude from search results.\\n\\n        Use this parameter when:\\n        1. The user explicitly requests to avoid certain websites (e.g., \"Find information about climate change but not from twitter.com\")\\n        2. The user mentions not wanting results from specific organizations without naming the domain (e.g., \"Find phone reviews but nothing from Apple\")\\n\\n        In both cases, you should determine the appropriate domains to exclude (e.g., [\"twitter.com\"] or [\"apple.com\"]) and set this parameter.\\n\\n        Results will filter out all content from the specified domains.\\n        Default is None (no domain exclusion).\\n        '}, 'search_depth': {'anyOf': [{'enum': ['basic', 'advanced'], 'type': 'string'}, {'type': 'null'}], 'default': 'basic', 'description': 'Controls search thoroughness and result comprehensiveness.\\n    \\n        Use \"basic\" for simple queries requiring quick, straightforward answers.\\n        \\n        Use \"advanced\" (default) for complex queries, specialized topics, \\n        rare information, or when in-depth analysis is needed.\\n        '}, 'include_images': {'anyOf': [{'type': 'boolean'}, {'type': 'null'}], 'default': False, 'description': 'Determines if the search returns relevant images along with text results.\\n   \\n        Set to True when the user explicitly requests visuals or when images would \\n        significantly enhance understanding (e.g., \"Show me what black holes look like,\" \\n        \"Find pictures of Renaissance art\").\\n        \\n        Leave as False (default) for most informational queries where text is sufficient.\\n        '}, 'time_range': {'anyOf': [{'enum': ['day', 'week', 'month', 'year'], 'type': 'string'}, {'type': 'null'}], 'default': None, 'description': 'Limits results to content published within a specific timeframe.\\n        \\n        ONLY set this when the user explicitly mentions a time period \\n        (e.g., \"latest AI news,\" \"articles from last week\").\\n        \\n        For less popular or niche topics, use broader time ranges \\n        (\"month\" or \"year\") to ensure sufficient relevant results.\\n   \\n        Options: \"day\" (24h), \"week\" (7d), \"month\" (30d), \"year\" (365d).\\n        \\n        Default is None.\\n        '}, 'topic': {'anyOf': [{'enum': ['general', 'news', 'finance'], 'type': 'string'}, {'type': 'null'}], 'default': 'general', 'description': 'Specifies search category for optimized results.\\n   \\n        Use \"general\" (default) for most queries, INCLUDING those with terms like \\n        \"latest,\" \"newest,\" or \"recent\" when referring to general information.\\n\\n        Use \"finance\" for markets, investments, economic data, or financial news.\\n\\n        Use \"news\" ONLY for politics, sports, or major current events covered by \\n        mainstream media - NOT simply because a query asks for \"new\" information.\\n        '}, 'include_favicon': {'anyOf': [{'type': 'boolean'}, {'type': 'null'}], 'default': False, 'description': \"Determines whether to include favicon URLs for each search result.\\n        \\n        When enabled, each search result will include the website's favicon URL,\\n        which can be useful for:\\n        - Building rich UI interfaces with visual website indicators\\n        - Providing visual cues about the source's credibility or brand\\n        - Creating bookmark-like displays with recognizable site icons\\n        \\n        Set to True when creating user interfaces that benefit from visual branding\\n        or when favicon information enhances the user experience.\\n        \\n        Default is False to minimize response size and API usage.\\n        \"}, 'start_date': {'anyOf': [{'type': 'string'}, {'type': 'null'}], 'default': None, 'description': 'Filters search results to include only content published on or after this date.\\n        \\n        Use this parameter when you need to:\\n        - Find recent developments or updates on a topic\\n        - Exclude outdated information from search results\\n        - Focus on content within a specific timeframe\\n        - Combine with end_date to create a custom date range\\n        \\n        Format must be YYYY-MM-DD (e.g., \"2024-01-15\" for January 15, 2024).\\n        \\n        Examples:\\n        - \"2024-01-01\" - Results from January 1, 2024 onwards\\n        - \"2023-12-25\" - Results from December 25, 2023 onwards\\n        \\n        When combined with end_date, creates a precise date range filter.\\n        \\n        Default is None (no start date restriction).\\n        '}, 'end_date': {'anyOf': [{'type': 'string'}, {'type': 'null'}], 'default': None, 'description': 'Filters search results to include only content published on or before this date.\\n        \\n        Use this parameter when you need to:\\n        - Exclude content published after a certain date\\n        - Study historical information or past events\\n        - Research how topics were covered during specific time periods\\n        - Combine with start_date to create a custom date range\\n        \\n        Format must be YYYY-MM-DD (e.g., \"2024-03-31\" for March 31, 2024).\\n        \\n        Examples:\\n        - \"2024-03-31\" - Results up to and including March 31, 2024\\n        - \"2023-12-31\" - Results up to and including December 31, 2023\\n        \\n        When combined with start_date, creates a precise date range filter.\\n        For example: start_date=\"2024-01-01\", end_date=\"2024-03-31\" \\n        returns results from Q1 2024 only.\\n        \\n        Default is None (no end date restriction).\\n        '}}, 'required': ['query'], 'type': 'object'}}}, {'type': 'function', 'function': {'name': 'multiply', 'description': 'Multiply a and b\\nArgs: \\n   a in integer is the first number,\\n   b is the second number in integer.\\nReturns: \\n    int: result of multiplication of a and b', 'parameters': {'properties': {'a': {'type': 'integer'}, 'b': {'type': 'integer'}}, 'required': ['a', 'b'], 'type': 'object'}}}]}, config={}, config_factories=[])"
      ]
     },
     "execution_count": 14,
     "metadata": {},
     "output_type": "execute_result"
    }
   ],
   "source": [
    "llm_with_tools"
   ]
  },
  {
   "cell_type": "code",
   "execution_count": 15,
   "id": "5a526431",
   "metadata": {},
   "outputs": [],
   "source": [
    "from langgraph.graph import StateGraph,START,END\n",
    "from langgraph.prebuilt import ToolNode\n",
    "from langgraph.prebuilt import tools_condition\n"
   ]
  },
  {
   "cell_type": "code",
   "execution_count": 29,
   "id": "5553d42a",
   "metadata": {},
   "outputs": [],
   "source": [
    "from typing import Annotated\n",
    "\n",
    "from typing_extensions import TypedDict\n",
    "from langgraph.graph import START, END, StateGraph  \n",
    "from langgraph.graph.message import add_messages   #reducers\n",
    "\n",
    "class State(TypedDict):\n",
    "    messages:Annotated[list,add_messages] # updates the messhaes rather than overwriding them.\n",
    "    \n",
    "graph = StateGraph(State)"
   ]
  },
  {
   "cell_type": "code",
   "execution_count": 30,
   "id": "d0a8894f",
   "metadata": {},
   "outputs": [
    {
     "data": {
      "image/png": "[encoded data removed]",
      "text/plain": [
       "<langgraph.graph.state.CompiledStateGraph object at 0x000002CF40923020>"
      ]
     },
     "execution_count": 30,
     "metadata": {},
     "output_type": "execute_result"
    }
   ],
   "source": [
    "def tool_calling_llm(state:State):\n",
    "    return {\"messages\":[llm_with_tools.invoke(state['messages'])]}\n",
    "\n",
    "graph.add_node(\"tool_calling_llm\", tool_calling_llm)\n",
    "graph.add_node(\"tools\", ToolNode(tools))\n",
    "\n",
    "graph.add_edge(START, \"tool_calling_llm\")\n",
    "graph.add_conditional_edges(\"tool_calling_llm\",tools_condition)\n",
    "graph.add_edge(\"tools\", \"tool_calling_llm\")\n",
    "graph.compile()"
   ]
  },
  {
   "cell_type": "code",
   "execution_count": 31,
   "id": "f3ed0254",
   "metadata": {},
   "outputs": [],
   "source": [
    "graph=graph.compile()"
   ]
  },
  {
   "cell_type": "code",
   "execution_count": 32,
   "id": "c54b44da",
   "metadata": {},
   "outputs": [
    {
     "name": "stdout",
     "output_type": "stream",
     "text": [
      "================================\u001b[1m Human Message \u001b[0m=================================\n",
      "\n",
      "Give me latest news on AI, multiply 5 and 2\n",
      "==================================\u001b[1m Ai Message \u001b[0m==================================\n",
      "Tool Calls:\n",
      "  tavily_search (rpvqvyhvd)\n",
      " Call ID: rpvqvyhvd\n",
      "  Args:\n",
      "    query: latest AI news\n",
      "    search_depth: advanced\n",
      "    topic: general\n",
      "  multiply (58m5swnff)\n",
      " Call ID: 58m5swnff\n",
      "  Args:\n",
      "    a: 5\n",
      "    b: 2\n",
      "=================================\u001b[1m Tool Message \u001b[0m=================================\n",
      "Name: tavily_search\n",
      "\n",
      "{\"query\": \"latest AI news\", \"follow_up_questions\": null, \"answer\": null, \"images\": [], \"results\": [{\"url\": \"https://www.artificialintelligence-news.com/\", \"title\": \"AI News | Latest AI News, Analysis & Events\", \"content\": \"Malaysia launches Ryt Bank, its first AI-powered bank · Finance AI. August 26, 2025 ; Google's Veo 3 AI video creation tools are now widely available · AI in\", \"score\": 0.98516, \"raw_content\": null}, {\"url\": \"https://hai.stanford.edu/ai-index/2025-ai-index-report\", \"title\": \"The 2025 AI Index Report | Stanford HAI\", \"content\": \"Generative AI saw particularly strong momentum, attracting $33.9 billion globally in private investment—an 18.7% increase from 2023. AI business usage is also\", \"score\": 0.97917, \"raw_content\": null}, {\"url\": \"https://digitaldefynd.com/IQ/future-trends-after-ai/\", \"title\": \"What after AI? 20 Trends that will define the future [2025]\", \"content\": \"From Artificial General Intelligence (AGI) and brain-to-brain communication to digital immortality, biofabrication, and ethicaltechnologygovernance, these\", \"score\": 0.97474, \"raw_content\": null}, {\"url\": \"https://www.nytimes.com/spotlight/artificial-intelligence\", \"title\": \"Artificial Intelligence - The New York Times\", \"content\": \"Corporate spending on artificial intelligence is surging as executives bank on major efficiency gains. So far, they report little effect to the bottom line.\", \"score\": 0.97312, \"raw_content\": null}, {\"url\": \"https://www.simplilearn.com/top-technology-trends-and-jobs-article\", \"title\": \"25 New Technology Trends for 2025\", \"content\": \"Sep 18, 2025—1.Generative AI2. Quantum Computing 3. 5G Expansion 4. Virtual Reality (VR) 2.0 5. Augmented Reality (AR) 6. Internet of Things 7. Biotechnology in\", \"score\": 0.97006, \"raw_content\": null}], \"response_time\": 4.44, \"request_id\": \"e5c50e4e-70a9-442b-85f3-00f87fdc2714\"}\n",
      "=================================\u001b[1m Tool Message \u001b[0m=================================\n",
      "Name: multiply\n",
      "\n",
      "10\n",
      "==================================\u001b[1m Ai Message \u001b[0m==================================\n",
      "\n",
      "The latest news on AI includes the launch of Malaysia's first AI-powered bank, Ryt Bank, and the widespread availability of Google's Veo 3 AI video creation tools. Additionally, the 2025 AI Index Report highlights the strong momentum of generative AI, with $33.9 billion in private investment globally, and the increasing usage of AI in business. Other trends that will define the future include Artificial General Intelligence (AGI), brain-to-brain communication, digital immortality, biofabrication, and ethical technology governance. Corporate spending on AI is also surging, with executives expecting major efficiency gains. \n",
      "\n",
      "The result of multiplying 5 and 2 is 10.\n"
     ]
    }
   ],
   "source": [
    "res=graph.invoke({\"messages\":\"Give me latest news on AI, multiply 5 and 2\"})\n",
    "\n",
    "for res in res['messages']:\n",
    "    res.pretty_print()"
   ]
  }
 ],
 "metadata": {
  "kernelspec": {
   "display_name": "myvenv",
   "language": "python",
   "name": "python3"
  },
  "language_info": {
   "codemirror_mode": {
    "name": "ipython",
    "version": 3
   },
   "file_extension": ".py",
   "mimetype": "text/x-python",
   "name": "python",
   "nbconvert_exporter": "python",
   "pygments_lexer": "ipython3",
   "version": "3.12.4"
  }
 },
 "nbformat": 4,
 "nbformat_minor": 5
}
